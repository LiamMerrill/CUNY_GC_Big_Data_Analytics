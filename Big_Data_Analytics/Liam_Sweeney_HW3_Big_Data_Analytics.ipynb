{
  "nbformat": 4,
  "nbformat_minor": 0,
  "metadata": {
    "kernelspec": {
      "display_name": "Python 3",
      "language": "python",
      "name": "python3"
    },
    "language_info": {
      "codemirror_mode": {
        "name": "ipython",
        "version": 3
      },
      "file_extension": ".py",
      "mimetype": "text/x-python",
      "name": "python",
      "nbconvert_exporter": "python",
      "pygments_lexer": "ipython3",
      "version": "3.9.5"
    },
    "colab": {
      "provenance": []
    }
  },
  "cells": [
    {
      "cell_type": "markdown",
      "metadata": {
        "id": "UdRVQs0aoKTi"
      },
      "source": [
        "version 1.0.0\n",
        "#![Spark Logo](http://spark-mooc.github.io/web-assets/images/ta_Spark-logo-small.png) + ![Python Logo](http://spark-mooc.github.io/web-assets/images/python-logo-master-v3-TM-flattened_small.png)\n",
        "# **Text Analysis and Entity Resolution**\n",
        "####Entity resolution is a common, yet difficult problem in data cleaning and integration. This homework will demonstrate how we can use Apache Spark to apply powerful and scalable text analysis techniques and perform entity resolution across two datasets of commercial products."
      ]
    },
    {
      "cell_type": "markdown",
      "metadata": {
        "id": "1tyr3qieoKTj"
      },
      "source": [
        "#### Entity Resolution, or \"[Record linkage][wiki]\" is the term used by statisticians, epidemiologists, and historians, among others, to describe the process of joining records from one data source with another that describe the same entity. Our terms with the same meaning include, \"entity disambiguation/linking\", duplicate detection\", \"deduplication\", \"record matching\", \"(reference) reconciliation\", \"object identification\", \"data/information integration\", and \"conflation\".\n",
        "#### Entity Resolution (ER) refers to the task of finding records in a dataset that refer to the same entity across different data sources (e.g., data files, books, websites, databases). ER is necessary when joining datasets based on entities that may or may not share a common identifier (e.g., database key, URI, National identification number), as may be the case due to differences in record shape, storage location, and/or curator style or preference. A dataset that has undergone ER may be referred to as being cross-linked.\n",
        "[wiki]: https://en.wikipedia.org/wiki/Record_linkage"
      ]
    },
    {
      "cell_type": "markdown",
      "metadata": {
        "id": "lpLWzrUYoKTj"
      },
      "source": [
        "### Code\n",
        "#### This homework can be completed using basic Python, pySpark transformations and actions, and the plotting library matplotlib. Other libraries are not allowed.\n",
        "### Files\n",
        "#### Data files for this homework are from the [metric-learning](https://code.google.com/p/metric-learning/) project, including:\n",
        "* **Google.csv**, the Google Products dataset\n",
        "* **Amazon.csv**, the Amazon dataset\n",
        "* **Google_small.csv**, 200 records sampled from the Google data\n",
        "* **Amazon_small.csv**, 200 records sampled from the Amazon data\n",
        "* **Amazon_Google_perfectMapping.csv**, the \"gold standard\" mapping\n",
        "* **stopwords.txt**, a list of common English words\n",
        "\n",
        "#### Besides the complete data files, there are \"sample\" data files for each dataset - we will use these for **Part 1**. In addition, there is a \"gold standard\" file that contains all of the true mappings between entities in the two datasets. Every row in the gold standard file has a pair of record IDs (one Google, one Amazon) that belong to two record that describe the same thing in the real world. We will use the gold standard to evaluate our algorithms."
      ]
    },
    {
      "cell_type": "code",
      "metadata": {
        "id": "RE19VIGrcUKW",
        "outputId": "8444a1f9-622f-4e74-feb2-3da4ba02ec40",
        "colab": {
          "base_uri": "https://localhost:8080/"
        }
      },
      "source": [
        "!pip install pyspark\n",
        "!pip install -U -q PyDrive\n",
        "!apt install openjdk-8-jdk-headless -qq\n",
        "import os\n",
        "os.environ[\"JAVA_HOME\"] = \"/usr/lib/jvm/java-8-openjdk-amd64\"\n",
        "\n",
        "import pyspark\n",
        "from pyspark import SparkContext, SparkConf\n",
        "\n",
        "# create the session\n",
        "conf = SparkConf().set(\"spark.ui.port\", \"4050\")\n",
        "\n",
        "# create the context\n",
        "sc = pyspark.SparkContext(conf=conf)"
      ],
      "execution_count": 2,
      "outputs": [
        {
          "output_type": "stream",
          "name": "stdout",
          "text": [
            "Collecting pyspark\n",
            "  Downloading pyspark-3.4.1.tar.gz (310.8 MB)\n",
            "\u001b[2K     \u001b[90m━━━━━━━━━━━━━━━━━━━━━━━━━━━━━━━━━━━━━━━\u001b[0m \u001b[32m310.8/310.8 MB\u001b[0m \u001b[31m4.5 MB/s\u001b[0m eta \u001b[36m0:00:00\u001b[0m\n",
            "\u001b[?25h  Preparing metadata (setup.py) ... \u001b[?25l\u001b[?25hdone\n",
            "Requirement already satisfied: py4j==0.10.9.7 in /usr/local/lib/python3.10/dist-packages (from pyspark) (0.10.9.7)\n",
            "Building wheels for collected packages: pyspark\n",
            "  Building wheel for pyspark (setup.py) ... \u001b[?25l\u001b[?25hdone\n",
            "  Created wheel for pyspark: filename=pyspark-3.4.1-py2.py3-none-any.whl size=311285387 sha256=a7e4c474e31bfe72d6f19913175e4d80fb637c6ac43f8cd5de61b38b8c5c76bc\n",
            "  Stored in directory: /root/.cache/pip/wheels/0d/77/a3/ff2f74cc9ab41f8f594dabf0579c2a7c6de920d584206e0834\n",
            "Successfully built pyspark\n",
            "Installing collected packages: pyspark\n",
            "Successfully installed pyspark-3.4.1\n",
            "The following additional packages will be installed:\n",
            "  libxtst6 openjdk-8-jre-headless\n",
            "Suggested packages:\n",
            "  openjdk-8-demo openjdk-8-source libnss-mdns fonts-dejavu-extra fonts-nanum\n",
            "  fonts-ipafont-gothic fonts-ipafont-mincho fonts-wqy-microhei\n",
            "  fonts-wqy-zenhei fonts-indic\n",
            "The following NEW packages will be installed:\n",
            "  libxtst6 openjdk-8-jdk-headless openjdk-8-jre-headless\n",
            "0 upgraded, 3 newly installed, 0 to remove and 18 not upgraded.\n",
            "Need to get 39.7 MB of archives.\n",
            "After this operation, 144 MB of additional disk space will be used.\n",
            "Selecting previously unselected package libxtst6:amd64.\n",
            "(Reading database ... 120895 files and directories currently installed.)\n",
            "Preparing to unpack .../libxtst6_2%3a1.2.3-1build4_amd64.deb ...\n",
            "Unpacking libxtst6:amd64 (2:1.2.3-1build4) ...\n",
            "Selecting previously unselected package openjdk-8-jre-headless:amd64.\n",
            "Preparing to unpack .../openjdk-8-jre-headless_8u382-ga-1~22.04.1_amd64.deb ...\n",
            "Unpacking openjdk-8-jre-headless:amd64 (8u382-ga-1~22.04.1) ...\n",
            "Selecting previously unselected package openjdk-8-jdk-headless:amd64.\n",
            "Preparing to unpack .../openjdk-8-jdk-headless_8u382-ga-1~22.04.1_amd64.deb ...\n",
            "Unpacking openjdk-8-jdk-headless:amd64 (8u382-ga-1~22.04.1) ...\n",
            "Setting up libxtst6:amd64 (2:1.2.3-1build4) ...\n",
            "Setting up openjdk-8-jre-headless:amd64 (8u382-ga-1~22.04.1) ...\n",
            "update-alternatives: using /usr/lib/jvm/java-8-openjdk-amd64/jre/bin/orbd to provide /usr/bin/orbd (orbd) in auto mode\n",
            "update-alternatives: using /usr/lib/jvm/java-8-openjdk-amd64/jre/bin/servertool to provide /usr/bin/servertool (servertool) in auto mode\n",
            "update-alternatives: using /usr/lib/jvm/java-8-openjdk-amd64/jre/bin/tnameserv to provide /usr/bin/tnameserv (tnameserv) in auto mode\n",
            "Setting up openjdk-8-jdk-headless:amd64 (8u382-ga-1~22.04.1) ...\n",
            "update-alternatives: using /usr/lib/jvm/java-8-openjdk-amd64/bin/clhsdb to provide /usr/bin/clhsdb (clhsdb) in auto mode\n",
            "update-alternatives: using /usr/lib/jvm/java-8-openjdk-amd64/bin/extcheck to provide /usr/bin/extcheck (extcheck) in auto mode\n",
            "update-alternatives: using /usr/lib/jvm/java-8-openjdk-amd64/bin/hsdb to provide /usr/bin/hsdb (hsdb) in auto mode\n",
            "update-alternatives: using /usr/lib/jvm/java-8-openjdk-amd64/bin/idlj to provide /usr/bin/idlj (idlj) in auto mode\n",
            "update-alternatives: using /usr/lib/jvm/java-8-openjdk-amd64/bin/javah to provide /usr/bin/javah (javah) in auto mode\n",
            "update-alternatives: using /usr/lib/jvm/java-8-openjdk-amd64/bin/jhat to provide /usr/bin/jhat (jhat) in auto mode\n",
            "update-alternatives: using /usr/lib/jvm/java-8-openjdk-amd64/bin/jsadebugd to provide /usr/bin/jsadebugd (jsadebugd) in auto mode\n",
            "update-alternatives: using /usr/lib/jvm/java-8-openjdk-amd64/bin/native2ascii to provide /usr/bin/native2ascii (native2ascii) in auto mode\n",
            "update-alternatives: using /usr/lib/jvm/java-8-openjdk-amd64/bin/schemagen to provide /usr/bin/schemagen (schemagen) in auto mode\n",
            "update-alternatives: using /usr/lib/jvm/java-8-openjdk-amd64/bin/wsgen to provide /usr/bin/wsgen (wsgen) in auto mode\n",
            "update-alternatives: using /usr/lib/jvm/java-8-openjdk-amd64/bin/wsimport to provide /usr/bin/wsimport (wsimport) in auto mode\n",
            "update-alternatives: using /usr/lib/jvm/java-8-openjdk-amd64/bin/xjc to provide /usr/bin/xjc (xjc) in auto mode\n",
            "Processing triggers for libc-bin (2.35-0ubuntu3.1) ...\n",
            "/sbin/ldconfig.real: /usr/local/lib/libtbbbind_2_0.so.3 is not a symbolic link\n",
            "\n",
            "/sbin/ldconfig.real: /usr/local/lib/libtbb.so.12 is not a symbolic link\n",
            "\n",
            "/sbin/ldconfig.real: /usr/local/lib/libtbbmalloc_proxy.so.2 is not a symbolic link\n",
            "\n",
            "/sbin/ldconfig.real: /usr/local/lib/libtbbmalloc.so.2 is not a symbolic link\n",
            "\n",
            "/sbin/ldconfig.real: /usr/local/lib/libtbbbind.so.3 is not a symbolic link\n",
            "\n",
            "/sbin/ldconfig.real: /usr/local/lib/libtbbbind_2_5.so.3 is not a symbolic link\n",
            "\n"
          ]
        }
      ]
    },
    {
      "cell_type": "code",
      "metadata": {
        "id": "mZIs4E-u_X4b",
        "outputId": "72cd25a1-beea-43a5-baf1-4491eff50cf2",
        "colab": {
          "base_uri": "https://localhost:8080/",
          "height": 209
        }
      },
      "source": [
        "# Just run this code\n",
        "!pip install wget\n",
        "import wget\n",
        "\n",
        "GOOGLE_PATH = 'Google.csv'\n",
        "GOOGLE_SMALL_PATH = 'Google_small.csv'\n",
        "AMAZON_PATH = 'Amazon.csv'\n",
        "AMAZON_SMALL_PATH = 'Amazon_small.csv'\n",
        "GOLD_STANDARD_PATH = 'Amazon_Google_perfectMapping.csv'\n",
        "STOPWORDS_PATH = 'stopwords.txt'\n",
        "\n",
        "url = 'https://phantom.cs.qc.cuny.edu/li/bda/'\n",
        "wget.download(url + GOOGLE_PATH, GOOGLE_PATH)\n",
        "wget.download(url + GOOGLE_SMALL_PATH, GOOGLE_SMALL_PATH)\n",
        "wget.download(url + AMAZON_PATH, AMAZON_PATH)\n",
        "wget.download(url + AMAZON_SMALL_PATH, AMAZON_SMALL_PATH)\n",
        "wget.download(url + GOLD_STANDARD_PATH, GOLD_STANDARD_PATH)\n",
        "wget.download(url + STOPWORDS_PATH, STOPWORDS_PATH)"
      ],
      "execution_count": 3,
      "outputs": [
        {
          "output_type": "stream",
          "name": "stdout",
          "text": [
            "Collecting wget\n",
            "  Downloading wget-3.2.zip (10 kB)\n",
            "  Preparing metadata (setup.py) ... \u001b[?25l\u001b[?25hdone\n",
            "Building wheels for collected packages: wget\n",
            "  Building wheel for wget (setup.py) ... \u001b[?25l\u001b[?25hdone\n",
            "  Created wheel for wget: filename=wget-3.2-py3-none-any.whl size=9655 sha256=fd6e55eb1d64c32872bb72e66ba4fbac4744bac708c1175cb4c706a960431dfd\n",
            "  Stored in directory: /root/.cache/pip/wheels/8b/f1/7f/5c94f0a7a505ca1c81cd1d9208ae2064675d97582078e6c769\n",
            "Successfully built wget\n",
            "Installing collected packages: wget\n",
            "Successfully installed wget-3.2\n"
          ]
        },
        {
          "output_type": "execute_result",
          "data": {
            "text/plain": [
              "'stopwords.txt'"
            ],
            "application/vnd.google.colaboratory.intrinsic+json": {
              "type": "string"
            }
          },
          "metadata": {},
          "execution_count": 3
        }
      ]
    },
    {
      "cell_type": "code",
      "metadata": {
        "id": "wvFq9dV2W25X"
      },
      "source": [
        "import hashlib\n",
        "\n",
        "class TestFailure(Exception):\n",
        "  pass\n",
        "class PrivateTestFailure(Exception):\n",
        "  pass\n",
        "\n",
        "class Test(object):\n",
        "  passed = 0\n",
        "  numTests = 0\n",
        "  failFast = False\n",
        "  private = False\n",
        "\n",
        "  @classmethod\n",
        "  def setFailFast(cls):\n",
        "    cls.failFast = True\n",
        "\n",
        "  @classmethod\n",
        "  def setPrivateMode(cls):\n",
        "    cls.private = True\n",
        "\n",
        "  @classmethod\n",
        "  def assertTrue(cls, result, msg=\"\"):\n",
        "    cls.numTests += 1\n",
        "    if result == True:\n",
        "      cls.passed += 1\n",
        "      print(\"1 test passed.\")\n",
        "    else:\n",
        "      print(\"1 test failed. \" + msg)\n",
        "      if cls.failFast:\n",
        "        if cls.private:\n",
        "          raise PrivateTestFailure(msg)\n",
        "        else:\n",
        "          raise TestFailure(msg)\n",
        "\n",
        "  @classmethod\n",
        "  def assertEquals(cls, var, val, msg=\"\"):\n",
        "    cls.assertTrue(var == val, msg)\n",
        "\n",
        "  @classmethod\n",
        "  def assertEqualsHashed(cls, var, hashed_val, msg=\"\"):\n",
        "    cls.assertEquals(cls._hash(var), hashed_val, msg)\n",
        "\n",
        "  @classmethod\n",
        "  def printStats(cls):\n",
        "    print(\"{0} / {1} test(s) passed.\".format(cls.passed, cls.numTests))\n",
        "\n",
        "  @classmethod\n",
        "  def _hash(cls, x):\n",
        "    return hashlib.sha1(str(x)).hexdigest()"
      ],
      "execution_count": 4,
      "outputs": []
    },
    {
      "cell_type": "markdown",
      "metadata": {
        "id": "sbgMvkrhoKTk"
      },
      "source": [
        "### **Part 0: Preliminaries**\n",
        "#### We read in each of the files and create an RDD consisting of lines.\n",
        "#### For each of the data files (\"Google.csv\", \"Amazon.csv\", and the samples), we want to parse the IDs out of each record. The IDs are the first column of the file (they are URLs for Google, and alphanumeric strings for Amazon). Omitting the headers, we load these data files into pair RDDs where the *mapping ID* is the key, and the value is a string consisting of the name/title, description, and manufacturer from the record.\n",
        "#### The file format of an Amazon line is:\n",
        "   `\"id\",\"title\",\"description\",\"manufacturer\",\"price\"`\n",
        "#### The file format of a Google line is:\n",
        "   `\"id\",\"name\",\"description\",\"manufacturer\",\"price\"`"
      ]
    },
    {
      "cell_type": "code",
      "metadata": {
        "id": "MfopkEJVoKTk"
      },
      "source": [
        "import re\n",
        "DATAFILE_PATTERN = '^(.+),\"(.+)\",(.*),(.*),(.*)'\n",
        "\n",
        "def removeQuotes(s):\n",
        "    \"\"\" Remove quotation marks from an input string\n",
        "    Args:\n",
        "        s (str): input string that might have the quote \"\" characters\n",
        "    Returns:\n",
        "        str: a string without the quote characters\n",
        "    \"\"\"\n",
        "    return ''.join(i for i in s if i!='\"')\n",
        "\n",
        "\n",
        "def parseDatafileLine(datafileLine):\n",
        "    \"\"\" Parse a line of the data file using the specified regular expression pattern\n",
        "    Args:\n",
        "        datafileLine (str): input string that is a line from the data file\n",
        "    Returns:\n",
        "        str: a string parsed using the given regular expression and without the quote characters\n",
        "    \"\"\"\n",
        "    match = re.search(DATAFILE_PATTERN, datafileLine.decode('UTF-8'))\n",
        "    if match is None:\n",
        "        print('Invalid datafile line: %s' % datafileLine)\n",
        "        return (datafileLine, -1)\n",
        "    elif match.group(1) == '\"id\"':\n",
        "        print('Header datafile line: %s' % datafileLine)\n",
        "        return (datafileLine, 0)\n",
        "    else:\n",
        "        product = '%s %s %s' % (match.group(2), match.group(3), match.group(4))\n",
        "        return ((removeQuotes(match.group(1)), product), 1)"
      ],
      "execution_count": 5,
      "outputs": []
    },
    {
      "cell_type": "code",
      "metadata": {
        "id": "Bq53FWLvoKTl",
        "outputId": "52f55ca7-dc5d-4da2-c32f-1eb3f39853f8",
        "colab": {
          "base_uri": "https://localhost:8080/"
        }
      },
      "source": [
        "import sys\n",
        "import os\n",
        "\n",
        "\n",
        "def parseData(filename):\n",
        "    \"\"\" Parse a data file\n",
        "    Args:\n",
        "        filename (str): input file name of the data file\n",
        "    Returns:\n",
        "        RDD: a RDD of parsed lines\n",
        "    \"\"\"\n",
        "    return (sc\n",
        "            .textFile(filename, 4, 0)\n",
        "            .map(parseDatafileLine)\n",
        "            .cache())\n",
        "\n",
        "def loadData(filename):\n",
        "    \"\"\" Load a data file\n",
        "    Args:\n",
        "        filename (str): input file name of the data file\n",
        "    Returns:\n",
        "        RDD: a RDD of parsed valid lines\n",
        "    \"\"\"\n",
        "    raw = parseData(filename).cache()\n",
        "    failed = (raw\n",
        "              .filter(lambda s: s[1] == -1)\n",
        "              .map(lambda s: s[0]))\n",
        "    for line in failed.take(10):\n",
        "        print('%s - Invalid datafile line: %s' % (path, line))\n",
        "    valid = (raw\n",
        "             .filter(lambda s: s[1] == 1)\n",
        "             .map(lambda s: s[0])\n",
        "             .cache())\n",
        "    print('%s - Read %d lines, successfully parsed %d lines, failed to parse %d lines' % (filename,\n",
        "                                                                                        raw.count(),\n",
        "                                                                                        valid.count(),\n",
        "                                                                                        failed.count()))\n",
        "    assert failed.count() == 0\n",
        "    assert raw.count() == (valid.count() + 1)\n",
        "    return valid\n",
        "\n",
        "googleSmall = loadData(GOOGLE_SMALL_PATH)\n",
        "google = loadData(GOOGLE_PATH)\n",
        "amazonSmall = loadData(AMAZON_SMALL_PATH)\n",
        "amazon = loadData(AMAZON_PATH)"
      ],
      "execution_count": 6,
      "outputs": [
        {
          "output_type": "stream",
          "name": "stdout",
          "text": [
            "Google_small.csv - Read 201 lines, successfully parsed 200 lines, failed to parse 0 lines\n",
            "Google.csv - Read 3227 lines, successfully parsed 3226 lines, failed to parse 0 lines\n",
            "Amazon_small.csv - Read 201 lines, successfully parsed 200 lines, failed to parse 0 lines\n",
            "Amazon.csv - Read 1364 lines, successfully parsed 1363 lines, failed to parse 0 lines\n"
          ]
        }
      ]
    },
    {
      "cell_type": "markdown",
      "metadata": {
        "id": "Fvw-Q1cmoKTm"
      },
      "source": [
        "#### Let's examine the lines that were just loaded in the two subset (small) files - one from Google and one from Amazon"
      ]
    },
    {
      "cell_type": "code",
      "metadata": {
        "id": "XiQPor91oKTm",
        "outputId": "ee1c95be-736d-402e-b15f-16dccdde8abc",
        "colab": {
          "base_uri": "https://localhost:8080/"
        }
      },
      "source": [
        "for line in googleSmall.take(3):\n",
        "    print('google: %s: %s\\n' % (line[0], line[1]))\n",
        "\n",
        "for line in amazonSmall.take(3):\n",
        "    print('amazon: %s: %s\\n' % (line[0], line[1]))"
      ],
      "execution_count": 7,
      "outputs": [
        {
          "output_type": "stream",
          "name": "stdout",
          "text": [
            "google: http://www.google.com/base/feeds/snippets/11448761432933644608: spanish vocabulary builder \"expand your vocabulary! contains fun lessons that both teach and entertain you'll quickly find yourself mastering new terms. includes games and more!\" \n",
            "\n",
            "google: http://www.google.com/base/feeds/snippets/8175198959985911471: topics presents: museums of world \"5 cd-rom set. step behind the velvet rope to examine some of the most treasured collections of antiquities art and inventions. includes the following the louvre - virtual visit 25 rooms in full screen interactive video detailed map of the louvre ...\" \n",
            "\n",
            "google: http://www.google.com/base/feeds/snippets/18445827127704822533: sierrahome hse hallmark card studio special edition win 98 me 2000 xp \"hallmark card studio special edition (win 98 me 2000 xp)\" \"sierrahome\"\n",
            "\n",
            "amazon: b000jz4hqo: clickart 950 000 - premier image pack (dvd-rom)  \"broderbund\"\n",
            "\n",
            "amazon: b0006zf55o: ca international - arcserve lap/desktop oem 30pk \"oem arcserve backup v11.1 win 30u for laptops and desktops\" \"computer associates\"\n",
            "\n",
            "amazon: b00004tkvy: noah's ark activity center (jewel case ages 3-8)  \"victory multimedia\"\n",
            "\n"
          ]
        }
      ]
    },
    {
      "cell_type": "markdown",
      "metadata": {
        "id": "CB7eqiC4oKTn"
      },
      "source": [
        "### **Part 1: ER as Text Similarity - Bags of Words**\n",
        "#### A simple approach to entity resolution is to treat all records as strings and compute their similarity with a string distance function. In this part, we will build some components for performing bag-of-words text-analysis, and then use them to compute record similarity.\n",
        "#### [Bag-of-words][bag-of-words] is a conceptually simple yet powerful approach to text analysis.\n",
        "#### The idea is to treat strings, a.k.a. **documents**, as *unordered collections* of words, or **tokens**, i.e., as bags of words.\n",
        "> #### **Note on terminology**: a \"token\" is the result of parsing the document down to the elements we consider \"atomic\" for the task at hand.  Tokens can be things like words, numbers, acronyms, or other exotica like word-roots or fixed-length character strings.\n",
        "> #### Bag of words techniques all apply to any sort of token, so when we say \"bag-of-words\" we really mean \"bag-of-tokens,\" strictly speaking.\n",
        "#### Tokens become the atomic unit of text comparison. If we want to compare two documents, we count how many tokens they share in common. If we want to search for documents with keyword queries (this is what Google does), then we turn the keywords into tokens and find documents that contain them. The power of this approach is that it makes string comparisons insensitive to small differences that probably do not affect meaning much, for example, punctuation and word order.\n",
        "[bag-of-words]: https://en.wikipedia.org/wiki/Bag-of-words_model"
      ]
    },
    {
      "cell_type": "markdown",
      "metadata": {
        "id": "sHlY2t8QoKTn"
      },
      "source": [
        "### **1(a) Tokenize a String**\n",
        "#### Implement the function `simpleTokenize(string)` that takes a string and returns a list of non-empty tokens in the string. `simpleTokenize` should split strings using the provided regular expression. Since we want to make token-matching case insensitive, make sure all tokens are turned lower-case. Give an interpretation, in natural language, of what the regular expression, `split_regex`, matches.\n",
        "#### If you need help with Regular Expressions, try the site [regex101](https://regex101.com/) where you can interactively explore the results of applying different regular expressions to strings. *Note that \\W includes the \"_\" character*.  You should use [re.split()](https://docs.python.org/2/library/re.html#re.split) to perform the string split. Also, make sure you remove any empty tokens."
      ]
    },
    {
      "cell_type": "code",
      "metadata": {
        "id": "XOByufzLoKTn",
        "outputId": "bbad08d3-50af-4632-a6ac-e90f4e9886d4",
        "colab": {
          "base_uri": "https://localhost:8080/"
        }
      },
      "source": [
        "# TODO: Replace <FILL IN> with appropriate code\n",
        "quickbrownfox = 'A quick brown fox jumps over the lazy dog.'\n",
        "split_regex = r'\\W+'\n",
        "\n",
        "def simpleTokenize(string):\n",
        "    \"\"\" A simple implementation of input string tokenization\n",
        "    Args:\n",
        "        string (str): input string\n",
        "    Returns:\n",
        "        list: a list of tokens\n",
        "    \"\"\"\n",
        "    tokens = [token.lower() for token in re.split(split_regex, string) if token]\n",
        "    return tokens\n",
        "\n",
        "\n",
        "print(simpleTokenize(quickbrownfox)) # Should give ['a', 'quick', 'brown', ... ]"
      ],
      "execution_count": 8,
      "outputs": [
        {
          "output_type": "stream",
          "name": "stdout",
          "text": [
            "['a', 'quick', 'brown', 'fox', 'jumps', 'over', 'the', 'lazy', 'dog']\n"
          ]
        }
      ]
    },
    {
      "cell_type": "code",
      "metadata": {
        "id": "GB9PepyioKTn",
        "outputId": "80c4e704-6dd1-4a99-eb52-a7d2f9d40f61",
        "colab": {
          "base_uri": "https://localhost:8080/"
        }
      },
      "source": [
        "# TEST Tokenize a String (1a)\n",
        "Test.assertEquals(simpleTokenize(quickbrownfox),\n",
        "                  ['a','quick','brown','fox','jumps','over','the','lazy','dog'],\n",
        "                  'simpleTokenize should handle sample text')\n",
        "Test.assertEquals(simpleTokenize(' '), [], 'simpleTokenize should handle empty string')\n",
        "Test.assertEquals(simpleTokenize('!!!!123A/456_B/789C.123A'), ['123a','456_b','789c','123a'],\n",
        "                  'simpleTokenize should handle puntuations and lowercase result')\n",
        "Test.assertEquals(simpleTokenize('fox fox'), ['fox', 'fox'],\n",
        "                  'simpleTokenize should not remove duplicates')"
      ],
      "execution_count": 9,
      "outputs": [
        {
          "output_type": "stream",
          "name": "stdout",
          "text": [
            "1 test passed.\n",
            "1 test passed.\n",
            "1 test passed.\n",
            "1 test passed.\n"
          ]
        }
      ]
    },
    {
      "cell_type": "markdown",
      "metadata": {
        "id": "1ZBndm_VoKTn"
      },
      "source": [
        "### **(1b) Removing stopwords**\n",
        "#### *[Stopwords][stopwords]* are common (English) words that do not contribute much to the content or meaning of a document (e.g., \"the\", \"a\", \"is\", \"to\", etc.). Stopwords add noise to bag-of-words comparisons, so they are usually excluded.\n",
        "#### Using the included file \"stopwords.txt\", implement `tokenize`, an improved tokenizer that does not emit stopwords.\n",
        "[stopwords]: https://en.wikipedia.org/wiki/Stop_words"
      ]
    },
    {
      "cell_type": "code",
      "metadata": {
        "id": "X2bret_soKTo",
        "outputId": "18a401fd-e921-4686-f3bc-0908556ea887",
        "colab": {
          "base_uri": "https://localhost:8080/"
        }
      },
      "source": [
        "# TODO: Replace <FILL IN> with appropriate code\n",
        "stopfile = STOPWORDS_PATH\n",
        "stopwords = set(sc.textFile(stopfile).collect())\n",
        "print('These are the stopwords: %s' % stopwords)\n",
        "\n",
        "def tokenize(string):\n",
        "    \"\"\" An implementation of input string tokenization that excludes stopwords\n",
        "    Args:\n",
        "        string (str): input string\n",
        "    Returns:\n",
        "        list: a list of tokens without stopwords\n",
        "    \"\"\"\n",
        "    tokens = [token for token in simpleTokenize(string) if token not in stopwords]\n",
        "    return tokens\n",
        "\n",
        "\n",
        "print(tokenize(quickbrownfox)) # Should give ['quick', 'brown', ... ]"
      ],
      "execution_count": 10,
      "outputs": [
        {
          "output_type": "stream",
          "name": "stdout",
          "text": [
            "These are the stopwords: {'nor', 'such', 'because', 'he', 'same', 'while', 'its', 'where', 'but', 'they', 'out', 'below', 'their', 'through', 'other', 'did', 'more', 'at', 'against', 'themselves', 'his', 'very', 'is', 'into', 'yourselves', 'ours', 'the', 'yours', 'itself', 'and', 'between', 'had', 'it', 'my', 'those', 'if', 'with', 'you', 'were', 'from', 'was', 'him', 'myself', 'up', 'herself', 'which', 'should', 'few', 'do', 'no', 'a', 'own', 'we', 'yourself', 'so', 'how', 'she', 'can', 'further', 'when', 'about', 'these', 'off', 'any', 'over', 'our', 'as', 'ourselves', 'whom', 'most', 'than', 'been', 'an', 't', 'hers', 'all', 'of', 'why', 'her', 'each', 'will', 'i', 'does', 'only', 'before', 'them', 'not', 'now', 'don', 'once', 'by', 'am', 'being', 'until', 'above', 'me', 'there', 'down', 'too', 'having', 'to', 'in', 'on', 'are', 'what', 'again', 'just', 'theirs', 'have', 'has', 'here', 's', 'during', 'for', 'your', 'or', 'that', 'both', 'himself', 'this', 'then', 'doing', 'under', 'after', 'who', 'some', 'be'}\n",
            "['quick', 'brown', 'fox', 'jumps', 'lazy', 'dog']\n"
          ]
        }
      ]
    },
    {
      "cell_type": "code",
      "metadata": {
        "id": "S5Cflr6ToKTo",
        "outputId": "45048543-a162-429b-97fd-20679d9a7343",
        "colab": {
          "base_uri": "https://localhost:8080/"
        }
      },
      "source": [
        "# TEST Removing stopwords (1b)\n",
        "Test.assertEquals(tokenize(\"Why a the?\"), [], 'tokenize should remove all stopwords')\n",
        "Test.assertEquals(tokenize(\"Being at the_?\"), ['the_'], 'tokenize should handle non-stopwords')\n",
        "Test.assertEquals(tokenize(quickbrownfox), ['quick','brown','fox','jumps','lazy','dog'],\n",
        "                    'tokenize should handle sample text')"
      ],
      "execution_count": 11,
      "outputs": [
        {
          "output_type": "stream",
          "name": "stdout",
          "text": [
            "1 test passed.\n",
            "1 test passed.\n",
            "1 test passed.\n"
          ]
        }
      ]
    },
    {
      "cell_type": "markdown",
      "metadata": {
        "id": "eVToH5eyoKTo"
      },
      "source": [
        "### **(1c) Tokenizing the small datasets**\n",
        "#### Now let's tokenize the two *small* datasets. For each ID in a dataset, `tokenize` the values, and then count the total number of tokens.\n",
        "#### How many tokens, total, are there in the two datasets?"
      ]
    },
    {
      "cell_type": "code",
      "metadata": {
        "id": "bEzsYi4UoKTp",
        "outputId": "2bbbd1b5-b216-4e24-9fee-0e25346f9464",
        "colab": {
          "base_uri": "https://localhost:8080/"
        }
      },
      "source": [
        "# TODO: Replace <FILL IN> with appropriate code\n",
        "\n",
        "amazonRecToToken = amazonSmall.map(lambda record: (record[0], tokenize(record[1])))\n",
        "googleRecToToken = googleSmall.map(lambda record: (record[0], tokenize(record[1])))\n",
        "\n",
        "def countTokens(vendorRDD):\n",
        "    \"\"\" Count and return the number of tokens\n",
        "    Args:\n",
        "        vendorRDD (RDD of (recordId, tokenizedValue)): Pair tuple of record ID to tokenized output\n",
        "    Returns:\n",
        "        count: count of all tokens\n",
        "    \"\"\"\n",
        "    return vendorRDD.map(lambda record: len(record[1])).reduce(lambda a, b: a + b)\n",
        "\n",
        "totalTokens = countTokens(amazonRecToToken) + countTokens(googleRecToToken)\n",
        "print('There are %s tokens in the combined datasets' % totalTokens)"
      ],
      "execution_count": 12,
      "outputs": [
        {
          "output_type": "stream",
          "name": "stdout",
          "text": [
            "There are 22520 tokens in the combined datasets\n"
          ]
        }
      ]
    },
    {
      "cell_type": "code",
      "metadata": {
        "id": "cnEqDE8DoKTp",
        "outputId": "3303dd65-857c-45e4-9eed-005d4f87bc0a",
        "colab": {
          "base_uri": "https://localhost:8080/"
        }
      },
      "source": [
        "# TEST Tokenizing the small datasets (1c)\n",
        "Test.assertEquals(totalTokens, 22520, 'incorrect totalTokens')"
      ],
      "execution_count": 13,
      "outputs": [
        {
          "output_type": "stream",
          "name": "stdout",
          "text": [
            "1 test passed.\n"
          ]
        }
      ]
    },
    {
      "cell_type": "markdown",
      "metadata": {
        "id": "4dsG6y_6oKTp"
      },
      "source": [
        "### **(1d) Amazon record with the most tokens**\n",
        "#### Which Amazon record has the biggest number of tokens?\n",
        "#### In other words, you want to sort the records and get the one with the largest count of tokens."
      ]
    },
    {
      "cell_type": "code",
      "metadata": {
        "id": "17l35bhPoKTq",
        "outputId": "68c39eb2-e6ff-4d1a-e0f5-e0beb94cd7d5",
        "colab": {
          "base_uri": "https://localhost:8080/"
        }
      },
      "source": [
        "# TODO: Replace <FILL IN> with appropriate code\n",
        "def findBiggestRecord(vendorRDD):\n",
        "    \"\"\" Find and return the record with the largest number of tokens\n",
        "    Args:\n",
        "        vendorRDD (RDD of (recordId, tokens)): input Pair Tuple of record ID and tokens\n",
        "    Returns:\n",
        "        list: a list of 1 Pair Tuple of record ID and tokens\n",
        "    \"\"\"\n",
        "\n",
        "    return vendorRDD.takeOrdered(1, key=lambda x: -len(x[1]))\n",
        "\n",
        "biggestRecordAmazon = findBiggestRecord(amazonRecToToken)\n",
        "print('The Amazon record with ID \"%s\" has the most tokens (%s)' % (biggestRecordAmazon[0][0],\n",
        "                                                                   len(biggestRecordAmazon[0][1])))"
      ],
      "execution_count": 14,
      "outputs": [
        {
          "output_type": "stream",
          "name": "stdout",
          "text": [
            "The Amazon record with ID \"b000o24l3q\" has the most tokens (1547)\n"
          ]
        }
      ]
    },
    {
      "cell_type": "code",
      "metadata": {
        "id": "5Rm-sPjMoKTq",
        "outputId": "65b51e29-f208-4041-8564-e088838a1fdc",
        "colab": {
          "base_uri": "https://localhost:8080/"
        }
      },
      "source": [
        "# TEST Amazon record with the most tokens (1d)\n",
        "Test.assertEquals(biggestRecordAmazon[0][0], 'b000o24l3q', 'incorrect biggestRecordAmazon')\n",
        "Test.assertEquals(len(biggestRecordAmazon[0][1]), 1547, 'incorrect len for biggestRecordAmazon')"
      ],
      "execution_count": 15,
      "outputs": [
        {
          "output_type": "stream",
          "name": "stdout",
          "text": [
            "1 test passed.\n",
            "1 test passed.\n"
          ]
        }
      ]
    },
    {
      "cell_type": "markdown",
      "metadata": {
        "id": "fUHESnhaoKTq"
      },
      "source": [
        "### **Part 2: ER as Text Similarity - Weighted Bag-of-Words using TF-IDF**\n",
        "#### Bag-of-words comparisons are not very good when all tokens are treated the same: some tokens are more important than others. Weights give us a way to specify which tokens to favor. With weights, when we compare documents, instead of counting common tokens, we sum up the weights of common tokens. A good heuristic for assigning weights is called \"Term-Frequency/Inverse-Document-Frequency,\" or [TF-IDF][tfidf] for short.\n",
        "#### **TF**\n",
        "#### TF rewards tokens that appear many times in the same document. It is computed as the frequency of a token in a document, that is, if document *d* contains 100 tokens and token *t* appears in *d* 5 times, then the TF weight of *t* in *d* is *5/100 = 1/20*. The intuition for TF is that if a word occurs often in a document, then it is more important to the meaning of the document.\n",
        "#### **IDF**\n",
        "#### IDF rewards tokens that are rare overall in a dataset. The intuition is that it is more significant if two documents share a rare word than a common one. IDF weight for a token, *t*, in a set of documents, *U*, is computed as follows:\n",
        "* #### Let *N* be the total number of documents in *U*\n",
        "* #### Find *n(t)*, the number of documents in *U* that contain *t*\n",
        "* #### Then *IDF(t) = N/n(t)*.\n",
        "#### Note that *n(t)/N* is the frequency of *t* in *U*, and *N/n(t)* is the inverse frequency.\n",
        "> #### **Note on terminology**: Sometimes token weights depend on the document the token belongs to, that is, the same token may have a different weight when it's found in different documents.  We call these weights *local* weights.  TF is an example of a local weight, because it depends on the length of the source.  On the other hand, some token weights only depend on the token, and are the same everywhere that token is found.  We call these weights *global*, and IDF is one such weight.\n",
        "#### **TF-IDF**\n",
        "#### Finally, to bring it all together, the total TF-IDF weight for a token in a document is the product of its TF and IDF weights.\n",
        "[tfidf]: https://en.wikipedia.org/wiki/Tf%E2%80%93idf"
      ]
    },
    {
      "cell_type": "markdown",
      "metadata": {
        "id": "7B5fg66ToKTr"
      },
      "source": [
        "### **(2a) Implement a TF function**\n",
        "#### Implement `tf(tokens)` that takes a list of tokens and returns a Python [dictionary](https://docs.python.org/2/tutorial/datastructures.html#dictionaries) mapping tokens to TF weights.\n",
        "#### The steps your function should perform are:\n",
        "* #### Create an empty Python dictionary\n",
        "* #### For each of the tokens in the input `tokens` list, count 1 for each occurance and add the token to the dictionary\n",
        "* #### For each of the tokens in the dictionary, divide the token's count by the total number of tokens in the input `tokens` list"
      ]
    },
    {
      "cell_type": "code",
      "metadata": {
        "id": "EVHBv0pUoKTr",
        "outputId": "659d6b8d-b355-49f6-c0ee-d9d15224794f",
        "colab": {
          "base_uri": "https://localhost:8080/"
        }
      },
      "source": [
        "# TODO: Replace <FILL IN> with appropriate code\n",
        "def tf(tokens):\n",
        "    \"\"\" Compute TF\n",
        "    Args:\n",
        "        tokens (list of str): input list of tokens from tokenize\n",
        "    Returns:\n",
        "        dictionary: a dictionary of tokens to its TF values\n",
        "    \"\"\"\n",
        "    tf_dict = {}\n",
        "\n",
        "    # Count occurrences of each token\n",
        "    for token in tokens:\n",
        "        tf_dict[token] = tf_dict.get(token, 0) + 1\n",
        "\n",
        "    total_tokens = len(tokens)\n",
        "\n",
        "    # Compute TF for each token\n",
        "    for token, count in tf_dict.items():\n",
        "        tf_dict[token] = count / total_tokens\n",
        "\n",
        "    return tf_dict\n",
        "\n",
        "print(tf(tokenize(quickbrownfox))) # Should give { 'quick': 0.1666 ... }"
      ],
      "execution_count": 16,
      "outputs": [
        {
          "output_type": "stream",
          "name": "stdout",
          "text": [
            "{'quick': 0.16666666666666666, 'brown': 0.16666666666666666, 'fox': 0.16666666666666666, 'jumps': 0.16666666666666666, 'lazy': 0.16666666666666666, 'dog': 0.16666666666666666}\n"
          ]
        }
      ]
    },
    {
      "cell_type": "code",
      "metadata": {
        "id": "C_hkfJ-3oKTr",
        "outputId": "c88504e6-f995-46ea-8c18-7717f8f08427",
        "colab": {
          "base_uri": "https://localhost:8080/"
        }
      },
      "source": [
        "# TEST Implement a TF function (2a)\n",
        "tf_test = tf(tokenize(quickbrownfox))\n",
        "Test.assertEquals(tf_test, {'brown': 0.16666666666666666, 'lazy': 0.16666666666666666,\n",
        "                             'jumps': 0.16666666666666666, 'fox': 0.16666666666666666,\n",
        "                             'dog': 0.16666666666666666, 'quick': 0.16666666666666666},\n",
        "                    'incorrect result for tf on sample text')\n",
        "tf_test2 = tf(tokenize('one_ one_ two!'))\n",
        "Test.assertEquals(tf_test2, {'one_': 0.6666666666666666, 'two': 0.3333333333333333},\n",
        "                    'incorrect result for tf test')"
      ],
      "execution_count": 17,
      "outputs": [
        {
          "output_type": "stream",
          "name": "stdout",
          "text": [
            "1 test passed.\n",
            "1 test passed.\n"
          ]
        }
      ]
    },
    {
      "cell_type": "markdown",
      "metadata": {
        "id": "l12xO0fhoKTr"
      },
      "source": [
        "### **(2b) Create a corpus**\n",
        "#### Create a pair RDD called `corpusRDD`, consisting of a combination of the two small datasets, `amazonRecToToken` and `googleRecToToken`. Each element of the `corpusRDD` should be a pair consisting of a key from one of the small datasets (ID or URL) and the value is the associated value for that key from the small datasets."
      ]
    },
    {
      "cell_type": "code",
      "metadata": {
        "id": "kxZmzrkcoKTr"
      },
      "source": [
        "# TODO: Replace <FILL IN> with appropriate code\n",
        "corpusRDD = amazonRecToToken.union(googleRecToToken)\n"
      ],
      "execution_count": 18,
      "outputs": []
    },
    {
      "cell_type": "code",
      "metadata": {
        "id": "IO1YfTqHoKTs",
        "colab": {
          "base_uri": "https://localhost:8080/"
        },
        "outputId": "8dfda954-8edf-4b9d-8490-69ed42f9ec60"
      },
      "source": [
        "# TEST Create a corpus (2b)\n",
        "Test.assertEquals(corpusRDD.count(), 400, 'incorrect corpusRDD.count()')"
      ],
      "execution_count": 19,
      "outputs": [
        {
          "output_type": "stream",
          "name": "stdout",
          "text": [
            "1 test passed.\n"
          ]
        }
      ]
    },
    {
      "cell_type": "markdown",
      "metadata": {
        "id": "786b-NFloKTs"
      },
      "source": [
        "### **(2c) Implement an IDFs function**\n",
        "#### Implement `idfs` that assigns an IDF weight to every unique token in an RDD called `corpus`. The function should return an pair RDD where the `key` is the unique token and value is the IDF weight for the token.\n",
        "#### Recall that the IDF weight for a token, *t*, in a set of documents, *U*, is computed as follows:\n",
        "* #### Let *N* be the total number of documents in *U*.\n",
        "* #### Find *n(t)*, the number of documents in *U* that contain *t*.\n",
        "* #### Then *IDF(t) = N/n(t)*.\n",
        "#### The steps your function should perform are:\n",
        "* #### Calculate *N*. Think about how you can calculate *N* from the input RDD.\n",
        "* #### Create an RDD (*not a pair RDD*) containing the unique tokens from each document in the input `corpus`. For each document, you should only include a token once, *even if it appears multiple times in that document.*\n",
        "* #### For each of the unique tokens, count how many times it appears in the document and then compute the IDF for that token: *N/n(t)*\n",
        "#### Use your `idfs` to compute the IDF weights for all tokens in `corpusRDD` (the combined small datasets).\n",
        "#### How many unique tokens are there?"
      ]
    },
    {
      "cell_type": "code",
      "metadata": {
        "id": "kyyHbReEoKTs",
        "colab": {
          "base_uri": "https://localhost:8080/"
        },
        "outputId": "6691d84e-e38c-4f45-cc56-78045f8e3719"
      },
      "source": [
        "# TODO: Replace <FILL IN> with appropriate code\n",
        "def idfs(corpus):\n",
        "    \"\"\" Compute IDF\n",
        "    Args:\n",
        "        corpus (RDD): input corpus\n",
        "    Returns:\n",
        "        RDD: a RDD of (record ID, IDF value)\n",
        "    \"\"\"\n",
        "\n",
        "    N = corpus.count()\n",
        "    uniqueTokens = corpus.flatMap(lambda x: list(set(x[1])))\n",
        "    tokenCountPairTuple = uniqueTokens.map(lambda x: (x, 1))\n",
        "    tokenSumPairTuple = tokenCountPairTuple.reduceByKey(lambda x, y: x + y)\n",
        "    return tokenSumPairTuple.map(lambda x: (x[0], N / x[1]))\n",
        "\n",
        "\n",
        "\n",
        "idfsSmall = idfs(amazonRecToToken.union(googleRecToToken))\n",
        "uniqueTokenCount = idfsSmall.count()\n",
        "\n",
        "print('There are %s unique tokens in the small datasets.' % uniqueTokenCount)"
      ],
      "execution_count": 20,
      "outputs": [
        {
          "output_type": "stream",
          "name": "stdout",
          "text": [
            "There are 4772 unique tokens in the small datasets.\n"
          ]
        }
      ]
    },
    {
      "cell_type": "code",
      "metadata": {
        "id": "OZ58l8gpoKTs",
        "colab": {
          "base_uri": "https://localhost:8080/"
        },
        "outputId": "4f34b725-01b5-4450-ea0e-b79db5ebf9a9"
      },
      "source": [
        "# TEST Implement an IDFs function (2c)\n",
        "Test.assertEquals(uniqueTokenCount, 4772, 'incorrect uniqueTokenCount')\n",
        "tokenSmallestIdf = idfsSmall.takeOrdered(1, lambda s: s[1])[0]\n",
        "Test.assertEquals(tokenSmallestIdf[0], 'software', 'incorrect smallest IDF token')\n",
        "Test.assertTrue(abs(tokenSmallestIdf[1] - 4.25531914894 < 0.0000000001),\n",
        "                'incorrect smallest IDF value')"
      ],
      "execution_count": 21,
      "outputs": [
        {
          "output_type": "stream",
          "name": "stdout",
          "text": [
            "1 test passed.\n",
            "1 test passed.\n",
            "1 test passed.\n"
          ]
        }
      ]
    },
    {
      "cell_type": "markdown",
      "metadata": {
        "id": "myrRPsVIoKTs"
      },
      "source": [
        "### **(2d) Tokens with the smallest IDF**\n",
        "#### Print out the 11 tokens with the smallest IDF in the combined small dataset."
      ]
    },
    {
      "cell_type": "code",
      "metadata": {
        "id": "KrYU__5voKTs",
        "colab": {
          "base_uri": "https://localhost:8080/"
        },
        "outputId": "1e276bde-8061-4dc0-9228-e10594812bfa"
      },
      "source": [
        "smallIDFTokens = idfsSmall.takeOrdered(11, lambda s: s[1])\n",
        "print(smallIDFTokens)"
      ],
      "execution_count": 22,
      "outputs": [
        {
          "output_type": "stream",
          "name": "stdout",
          "text": [
            "[('software', 4.25531914893617), ('features', 6.896551724137931), ('new', 6.896551724137931), ('use', 7.017543859649122), ('complete', 7.2727272727272725), ('easy', 7.6923076923076925), ('cd', 8.333333333333334), ('create', 8.333333333333334), ('system', 8.333333333333334), ('windows', 8.51063829787234), ('1', 8.51063829787234)]\n"
          ]
        }
      ]
    },
    {
      "cell_type": "markdown",
      "metadata": {
        "id": "qZS65vusoKTt"
      },
      "source": [
        "### **(2e) IDF Histogram**\n",
        "#### Plot a histogram of IDF values.  Be sure to use appropriate scaling and bucketing for the data.\n",
        "#### First plot the histogram using `matplotlib`"
      ]
    },
    {
      "cell_type": "code",
      "metadata": {
        "id": "VlMmEG0koKTt",
        "colab": {
          "base_uri": "https://localhost:8080/",
          "height": 291
        },
        "outputId": "520d5bc7-3012-4e54-f2ba-378e6f6767ac"
      },
      "source": [
        "import matplotlib.pyplot as plt\n",
        "\n",
        "small_idf_values = idfsSmall.map(lambda s: s[1]).collect()\n",
        "fig = plt.figure(figsize=(8,3))\n",
        "plt.hist(small_idf_values, 50, log=True)\n",
        "pass"
      ],
      "execution_count": 23,
      "outputs": [
        {
          "output_type": "display_data",
          "data": {
            "text/plain": [
              "<Figure size 800x300 with 1 Axes>"
            ],
            "image/png": "[encoded data removed]"
          },
          "metadata": {}
        }
      ]
    },
    {
      "cell_type": "markdown",
      "metadata": {
        "id": "H5d7HMQBoKTt"
      },
      "source": [
        "### **(2f) Implement a TF-IDF function**\n",
        "#### Use your `tf` function to implement a `tfidf(tokens, idfs)` function that takes a list of tokens from a document and a Python dictionary of IDF weights and returns a Python dictionary mapping individual tokens to total TF-IDF weights.\n",
        "#### The steps your function should perform are:\n",
        "* #### Calculate the token frequencies (TF) for `tokens`\n",
        "* #### Create a Python dictionary where each token maps to the token's frequency times the token's IDF weight\n",
        "#### Use your `tfidf` function to compute the weights of Amazon product record 'b000hkgj8k'. To do this, we need to extract the record for the token from the tokenized small Amazon dataset and we need to convert the IDFs for the small dataset into a Python dictionary. We can do the first part, by using a `filter()` transformation to extract the matching record and a `collect()` action to return the value to the driver. For the second part, we use the [`collectAsMap()` action](http://spark.apache.org/docs/latest/api/python/pyspark.html#pyspark.RDD.collectAsMap) to return the IDFs to the driver as a Python dictionary."
      ]
    },
    {
      "cell_type": "code",
      "metadata": {
        "id": "fFyIiucHoKTt",
        "colab": {
          "base_uri": "https://localhost:8080/"
        },
        "outputId": "a11efecb-46b2-44f3-90dc-8cdf4dce8023"
      },
      "source": [
        "# TODO: Replace <FILL IN> with appropriate code\n",
        "def tfidf(tokens, idfs):\n",
        "    \"\"\" Compute TF-IDF\n",
        "    Args:\n",
        "        tokens (list of str): input list of tokens from tokenize\n",
        "        idfs (dictionary): record to IDF value\n",
        "    Returns:\n",
        "        dictionary: a dictionary of records to TF-IDF values\n",
        "    \"\"\"\n",
        "    tfs = tf(tokens)\n",
        "    tfIdfDict = {token: tfs[token] * idfs[token] for token in tfs}\n",
        "    return tfIdfDict\n",
        "\n",
        "recb000hkgj8k = amazonRecToToken.filter(lambda x: x[0] == 'b000hkgj8k').collect()[0][1]\n",
        "idfsSmallWeights = idfsSmall.collectAsMap()\n",
        "recb000hkgj8kWeights = tfidf(recb000hkgj8k, idfsSmallWeights)\n",
        "\n",
        "rec_b000hkgj8k_weights = recb000hkgj8kWeights\n",
        "print('Amazon record \"b000hkgj8k\" has tokens and weights:\\n%s' % rec_b000hkgj8k_weights)"
      ],
      "execution_count": 25,
      "outputs": [
        {
          "output_type": "stream",
          "name": "stdout",
          "text": [
            "Amazon record \"b000hkgj8k\" has tokens and weights:\n",
            "{'autocad': 33.33333333333333, '2007': 3.5087719298245617, 'courseware': 66.66666666666666, 'customizing': 16.666666666666664, 'interface': 3.0303030303030303, 'autodesk': 8.333333333333332, 'psg': 33.33333333333333}\n"
          ]
        }
      ]
    },
    {
      "cell_type": "code",
      "metadata": {
        "id": "GBE4-NwRoKTu",
        "colab": {
          "base_uri": "https://localhost:8080/"
        },
        "outputId": "83471674-e697-4d36-e153-bd049875a9f3"
      },
      "source": [
        "# TEST Implement a TF-IDF function (2f)\n",
        "Test.assertEquals(rec_b000hkgj8k_weights,\n",
        "                   {'autocad': 33.33333333333333, 'autodesk': 8.333333333333332,\n",
        "                    'courseware': 66.66666666666666, 'psg': 33.33333333333333,\n",
        "                    '2007': 3.5087719298245617, 'customizing': 16.666666666666664,\n",
        "                    'interface': 3.0303030303030303}, 'incorrect rec_b000hkgj8k_weights')"
      ],
      "execution_count": 26,
      "outputs": [
        {
          "output_type": "stream",
          "name": "stdout",
          "text": [
            "1 test passed.\n"
          ]
        }
      ]
    },
    {
      "cell_type": "markdown",
      "metadata": {
        "id": "hiAhzjUSoKTu"
      },
      "source": [
        "### **Part 3: ER as Text Similarity - Cosine Similarity**\n",
        "#### Now we are ready to do text comparisons in a formal way. The metric of string distance we will use is called **[cosine similarity][cosine]**. We will treat each document as a vector in some high dimensional space. Then, to compare two documents we compute the cosine of the angle between their two document vectors. This is *much* easier than it sounds.\n",
        "#### The first question to answer is how do we represent documents as vectors? The answer is familiar: bag-of-words! We treat each unique token as a dimension, and treat token weights as magnitudes in their respective token dimensions. For example, suppose we use simple counts as weights, and we want to interpret the string \"Hello, world!  Goodbye, world!\" as a vector. Then in the \"hello\" and \"goodbye\" dimensions the vector has value 1, in the \"world\" dimension it has value 2, and it is zero in all other dimensions.\n",
        "#### The next question is: given two vectors how do we find the cosine of the angle between them? Recall the formula for the dot product of two vectors:\n",
        "#### $$ a \\cdot b = \\| a \\| \\| b \\| \\cos \\theta $$\n",
        "#### Here $ a \\cdot b = \\sum a_i b_i $ is the ordinary dot product of two vectors, and $ \\|a\\| = \\sqrt{ \\sum a_i^2 } $ is the norm of $ a $.\n",
        "#### We can rearrange terms and solve for the cosine to find it is simply the normalized dot product of the vectors. With our vector model, the dot product and norm computations are simple functions of the bag-of-words document representations, so we now have a formal way to compute similarity:\n",
        "#### $$ similarity = \\cos \\theta = \\frac{a \\cdot b}{\\|a\\| \\|b\\|} = \\frac{\\sum a_i b_i}{\\sqrt{\\sum a_i^2} \\sqrt{\\sum b_i^2}} $$\n",
        "#### Setting aside the algebra, the geometric interpretation is more intuitive. The angle between two document vectors is small if they share many tokens in common, because they are pointing in roughly the same direction. For that case, the cosine of the angle will be large. Otherwise, if the angle is large (and they have few words in common), the cosine is small. Therefore, cosine similarity scales proportionally with our intuitive sense of similarity.\n",
        "[cosine]: https://en.wikipedia.org/wiki/Cosine_similarity"
      ]
    },
    {
      "cell_type": "markdown",
      "metadata": {
        "id": "hpygTaJ6oKTu"
      },
      "source": [
        "### **(3a) Implement the components of a `cosineSimilarity` function**\n",
        "#### Implement the components of a `cosineSimilarity` function.\n",
        "#### Use the `tokenize` and `tfidf` functions, and the IDF weights from Part 2 for extracting tokens and assigning them weights.\n",
        "#### The steps you should perform are:\n",
        "* #### Define a function `dotprod` that takes two Python dictionaries and produces the dot product of them, where the dot product is defined as the sum of the product of values for tokens that appear in *both* dictionaries\n",
        "* #### Define a function `norm` that returns the square root of the dot product of a dictionary and itself\n",
        "* #### Define a function `cossim` that returns the dot product of two dictionaries divided by the norm of the first dictionary and then by the norm of the second dictionary"
      ]
    },
    {
      "cell_type": "code",
      "metadata": {
        "id": "AEUxcs0boKTu",
        "colab": {
          "base_uri": "https://localhost:8080/"
        },
        "outputId": "3bfa95fa-142c-4f8c-fa6b-ed40ef7d84b1"
      },
      "source": [
        "# TODO: Replace <FILL IN> with appropriate code\n",
        "import math\n",
        "\n",
        "def dotprod(a, b):\n",
        "    \"\"\" Compute dot product\n",
        "    Args:\n",
        "        a (dictionary): first dictionary of record to value\n",
        "        b (dictionary): second dictionary of record to value\n",
        "    Returns:\n",
        "        dotProd: result of the dot product with the two input dictionaries\n",
        "    \"\"\"\n",
        "    return sum([a[token] * b[token] for token in a if token in b])\n",
        "def norm(a):\n",
        "    \"\"\" Compute square root of the dot product\n",
        "    Args:\n",
        "        a (dictionary): a dictionary of record to value\n",
        "    Returns:\n",
        "        norm: a dictionary of tokens to its TF values\n",
        "    \"\"\"\n",
        "    return math.sqrt(dotprod(a, a))\n",
        "\n",
        "def cossim(a, b):\n",
        "    \"\"\" Compute cosine similarity\n",
        "    Args:\n",
        "        a (dictionary): first dictionary of record to value\n",
        "        b (dictionary): second dictionary of record to value\n",
        "    Returns:\n",
        "        cossim: dot product of two dictionaries divided by the norm of the first dictionary and\n",
        "                then by the norm of the second dictionary\n",
        "    \"\"\"\n",
        "    return dotprod(a, b) / (norm(a) * norm(b))\n",
        "\n",
        "testVec1 = {'foo': 2, 'bar': 3, 'baz': 5 }\n",
        "testVec2 = {'foo': 1, 'bar': 0, 'baz': 20 }\n",
        "dp = dotprod(testVec1, testVec2)\n",
        "nm = norm(testVec1)\n",
        "print(dp, nm)"
      ],
      "execution_count": 27,
      "outputs": [
        {
          "output_type": "stream",
          "name": "stdout",
          "text": [
            "102 6.164414002968976\n"
          ]
        }
      ]
    },
    {
      "cell_type": "code",
      "metadata": {
        "id": "_KxSyVcJoKTu",
        "colab": {
          "base_uri": "https://localhost:8080/"
        },
        "outputId": "01d48066-8b7d-423e-bcae-e06a80a0b02b"
      },
      "source": [
        "# TEST Implement the components of a cosineSimilarity function (3a)\n",
        "Test.assertEquals(dp, 102, 'incorrect dp')\n",
        "Test.assertTrue(abs(nm - 6.16441400297) < 0.0000001, 'incorrrect nm')"
      ],
      "execution_count": 28,
      "outputs": [
        {
          "output_type": "stream",
          "name": "stdout",
          "text": [
            "1 test passed.\n",
            "1 test passed.\n"
          ]
        }
      ]
    },
    {
      "cell_type": "markdown",
      "metadata": {
        "id": "7cwROzawoKTu"
      },
      "source": [
        "### **(3b) Implement a `cosineSimilarity` function**\n",
        "#### Implement a `cosineSimilarity(string1, string2, idfsDictionary)` function that takes two strings and a dictionary of IDF weights, and computes their cosine similarity in the context of some global IDF weights.\n",
        "#### The steps you should perform are:\n",
        "* #### Apply your `tfidf` function to the tokenized first and second strings, using the dictionary of IDF weights\n",
        "* #### Compute and return your `cossim` function applied to the results of the two `tfidf` functions"
      ]
    },
    {
      "cell_type": "code",
      "metadata": {
        "id": "Dwo0nrxZoKTv",
        "colab": {
          "base_uri": "https://localhost:8080/"
        },
        "outputId": "b684b7f4-a29a-4ce6-ed06-d1a079a59c50"
      },
      "source": [
        "# TODO: Replace <FILL IN> with appropriate code\n",
        "def cosineSimilarity(string1, string2, idfsDictionary):\n",
        "    \"\"\" Compute cosine similarity between two strings\n",
        "    Args:\n",
        "        string1 (str): first string\n",
        "        string2 (str): second string\n",
        "        idfsDictionary (dictionary): a dictionary of IDF values\n",
        "    Returns:\n",
        "        cossim: cosine similarity value\n",
        "    \"\"\"\n",
        "    tokens1 = tokenize(string1)\n",
        "    tokens2 = tokenize(string2)\n",
        "    w1 = tfidf(tokens1, idfsDictionary)\n",
        "    w2 = tfidf(tokens2, idfsDictionary)\n",
        "    return cossim(w1, w2)\n",
        "\n",
        "cossimAdobe = cosineSimilarity('Adobe Photoshop',\n",
        "                               'Adobe Illustrator',\n",
        "                               idfsSmallWeights)\n",
        "\n",
        "print(cossimAdobe)"
      ],
      "execution_count": 30,
      "outputs": [
        {
          "output_type": "stream",
          "name": "stdout",
          "text": [
            "0.05772433821630337\n"
          ]
        }
      ]
    },
    {
      "cell_type": "code",
      "metadata": {
        "id": "f_5XKCwDoKTv",
        "colab": {
          "base_uri": "https://localhost:8080/"
        },
        "outputId": "83d65845-682d-4c6e-f796-ea612b8485dc"
      },
      "source": [
        "# TEST Implement a cosineSimilarity function (3b)\n",
        "Test.assertTrue(abs(cossimAdobe - 0.0577243382163) < 0.0000001, 'incorrect cossimAdobe')"
      ],
      "execution_count": 31,
      "outputs": [
        {
          "output_type": "stream",
          "name": "stdout",
          "text": [
            "1 test passed.\n"
          ]
        }
      ]
    },
    {
      "cell_type": "markdown",
      "metadata": {
        "id": "639cMn-foKTv"
      },
      "source": [
        "### **(3c) Perform Entity Resolution**\n",
        "#### Now we can finally do some entity resolution!\n",
        "#### For *every* product record in the small Google dataset, use your `cosineSimilarity` function to compute its similarity to every record in the small Amazon dataset.  Then, build a dictionary mapping `(Google URL, Amazon ID)` tuples to similarity scores between 0 and 1.\n",
        "#### We'll do this computation two different ways, first we'll do it without a broadcast variable, and then we'll use a broadcast variable\n",
        "#### The steps you should perform are:\n",
        "* #### Create an RDD that is a combination of the small Google and small Amazon datasets that has as elements all pairs of elements (a, b) where a is in self and b is in other. The result will be an RDD of the form: `[ ((Google URL1, Google String1), (Amazon ID1, Amazon String1)), ((Google URL1, Google String1), (Amazon ID2, Amazon String2)), ((Google URL2, Google String2), (Amazon ID1, Amazon String1)), ... ]`\n",
        "* #### Define a worker function that given an element from the combination RDD computes the cosineSimlarity for the two records in the element\n",
        "* #### Apply the worker function to every element in the RDD\n",
        "#### Now, compute the similarity between Amazon record `b000o24l3q` and Google record `http://www.google.com/base/feeds/snippets/17242822440574356561`."
      ]
    },
    {
      "cell_type": "code",
      "metadata": {
        "id": "j6-dckt8oKTv",
        "colab": {
          "base_uri": "https://localhost:8080/"
        },
        "outputId": "10f0710c-c3f2-4f47-ed94-2a8f8f2e2856"
      },
      "source": [
        "# TODO: Replace <FILL IN> with appropriate code\n",
        "crossSmall = (googleSmall\n",
        "              .cartesian(amazonSmall)\n",
        "              .cache())\n",
        "idfs_small_weights = idfsSmallWeights\n",
        "\n",
        "def computeSimilarity(record):\n",
        "    \"\"\" Compute similarity on a combination record\n",
        "    Args:\n",
        "        record: a pair, (google record, amazon record)\n",
        "    Returns:\n",
        "        pair: a pair, (google URL, amazon ID, cosine similarity value)\n",
        "    \"\"\"\n",
        "    googleRec = record[0]\n",
        "    amazonRec = record[1]\n",
        "    googleURL = googleRec[0]\n",
        "    amazonID = amazonRec[0]\n",
        "    googleValue = googleRec[1]\n",
        "    amazonValue = amazonRec[1]\n",
        "    cs = cosineSimilarity(googleValue, amazonValue, idfs_small_weights)\n",
        "    return (googleURL, amazonID, cs)\n",
        "\n",
        "similarities = (crossSmall\n",
        "                .map(computeSimilarity)\n",
        "                .cache())\n",
        "\n",
        "def similar(amazonID, googleURL):\n",
        "    return (similarities\n",
        "            .filter(lambda record: (record[0] == googleURL and record[1] == amazonID))\n",
        "            .collect()[0][2])\n",
        "\n",
        "similarityAmazonGoogle = similar('b000o24l3q', 'http://www.google.com/base/feeds/snippets/17242822440574356561')\n",
        "print('Requested similarity is %s.' % similarityAmazonGoogle)"
      ],
      "execution_count": 32,
      "outputs": [
        {
          "output_type": "stream",
          "name": "stdout",
          "text": [
            "Requested similarity is 0.00030317194045132.\n"
          ]
        }
      ]
    },
    {
      "cell_type": "code",
      "metadata": {
        "id": "I1mqZCDmoKTv",
        "colab": {
          "base_uri": "https://localhost:8080/"
        },
        "outputId": "7ea2f09a-a105-4379-9332-9ae5453d56a7"
      },
      "source": [
        "# TEST Perform Entity Resolution (3c)\n",
        "Test.assertTrue(abs(similarityAmazonGoogle - 0.000303171940451) < 0.0000001,\n",
        "                'incorrect similarityAmazonGoogle')"
      ],
      "execution_count": 33,
      "outputs": [
        {
          "output_type": "stream",
          "name": "stdout",
          "text": [
            "1 test passed.\n"
          ]
        }
      ]
    },
    {
      "cell_type": "markdown",
      "metadata": {
        "id": "LpZJErv5oKTw"
      },
      "source": [
        "### **(3d) Perform Entity Resolution with Broadcast Variables**\n",
        "#### The solution in (3c) works well for small datasets, but it requires Spark to (automatically) send the `idfsSmallWeights` variable to all the workers. If we didn't `cache()` similarities, then it might have to be recreated if we run `similar()` multiple times. This would cause Spark to send `idfsSmallWeights` every time.\n",
        "#### Instead, we can use a broadcast variable - we define the broadcast variable in the driver and then we can refer to it in each worker. Spark saves the broadcast variable at each worker, so it is only sent once.\n",
        "#### The steps you should perform are:\n",
        "* #### Define a `computeSimilarityBroadcast` function that given an element from the combination RDD computes the cosine simlarity for the two records in the element. This will be the same as the worker function `computeSimilarity` in (3c) except that it uses a broadcast variable.\n",
        "* #### Apply the worker function to every element in the RDD\n",
        "#### Again, compute the similarity between Amazon record `b000o24l3q` and Google record `http://www.google.com/base/feeds/snippets/17242822440574356561`."
      ]
    },
    {
      "cell_type": "code",
      "metadata": {
        "id": "ynU69aTQoKTw",
        "colab": {
          "base_uri": "https://localhost:8080/"
        },
        "outputId": "08da46fb-e8fc-4a9e-ff11-5eb7b59ca4da"
      },
      "source": [
        "def computeSimilarityBroadcast(record):\n",
        "    googleRec = record[0]\n",
        "    amazonRec = record[1]\n",
        "    googleURL = googleRec[0]\n",
        "    amazonID = amazonRec[0]\n",
        "    googleValue = googleRec[1]\n",
        "    amazonValue = amazonRec[1]\n",
        "    cs = cosineSimilarity(googleValue, amazonValue, idfsSmallBroadcast.value)\n",
        "    return (googleURL, amazonID, cs)\n",
        "\n",
        "idfsSmallBroadcast = sc.broadcast(idfsSmallWeights)\n",
        "\n",
        "similaritiesBroadcast = (crossSmall\n",
        "                         .map(computeSimilarityBroadcast)\n",
        "                         .cache())\n",
        "\n",
        "def similarBroadcast(amazonID, googleURL):\n",
        "    \"\"\" Return similarity value, computed using Broadcast variable \"\"\"\n",
        "    return (similaritiesBroadcast\n",
        "            .filter(lambda record: (record[0] == googleURL and record[1] == amazonID))\n",
        "            .collect()[0][2])\n",
        "\n",
        "similarityAmazonGoogleBroadcast = similarBroadcast('b000o24l3q', 'http://www.google.com/base/feeds/snippets/17242822440574356561')\n",
        "print('Requested similarity is %s.' % similarityAmazonGoogleBroadcast)"
      ],
      "execution_count": 34,
      "outputs": [
        {
          "output_type": "stream",
          "name": "stdout",
          "text": [
            "Requested similarity is 0.00030317194045132.\n"
          ]
        }
      ]
    },
    {
      "cell_type": "code",
      "metadata": {
        "id": "39u4XUOboKTw",
        "colab": {
          "base_uri": "https://localhost:8080/"
        },
        "outputId": "87263689-a708-4a85-a519-71e9e80e879b"
      },
      "source": [
        "# TEST Perform Entity Resolution with Broadcast Variables (3d)\n",
        "from pyspark import Broadcast\n",
        "Test.assertTrue(isinstance(idfsSmallBroadcast, Broadcast), 'incorrect idfsSmallBroadcast')\n",
        "Test.assertEquals(len(idfsSmallBroadcast.value), 4772, 'incorrect idfsSmallBroadcast value')\n",
        "Test.assertTrue(abs(similarityAmazonGoogleBroadcast - 0.000303171940451) < 0.0000001,\n",
        "                'incorrect similarityAmazonGoogle')"
      ],
      "execution_count": 35,
      "outputs": [
        {
          "output_type": "stream",
          "name": "stdout",
          "text": [
            "1 test passed.\n",
            "1 test passed.\n",
            "1 test passed.\n"
          ]
        }
      ]
    },
    {
      "cell_type": "markdown",
      "metadata": {
        "id": "XUJg-L2joKTw"
      },
      "source": [
        "### **(3e) Perform a Gold Standard evaluation**\n",
        "#### First, we'll load the \"gold standard\" data and use it to answer several questions. We read and parse the Gold Standard data, where the format of each line is \"Amazon Product ID\",\"Google URL\". The resulting RDD has elements of the form (\"AmazonID GoogleURL\", 'gold')"
      ]
    },
    {
      "cell_type": "code",
      "metadata": {
        "id": "AjFPS2ZWoKTw",
        "colab": {
          "base_uri": "https://localhost:8080/"
        },
        "outputId": "0bba9f2a-72f8-4ba6-b992-29a1c8e80315"
      },
      "source": [
        "GOLDFILE_PATTERN = '^(.+),(.+)'\n",
        "\n",
        "# Parse each line of a data file useing the specified regular expression pattern\n",
        "def parse_goldfile_line(goldfile_line):\n",
        "    \"\"\" Parse a line from the 'golden standard' data file\n",
        "    Args:\n",
        "        goldfile_line: a line of data\n",
        "    Returns:\n",
        "        pair: ((key, 'gold', 1 if successful or else 0))\n",
        "    \"\"\"\n",
        "    match = re.search(GOLDFILE_PATTERN, goldfile_line)\n",
        "    if match is None:\n",
        "        print('Invalid goldfile line: %s' % goldfile_line)\n",
        "        return (goldfile_line, -1)\n",
        "    elif match.group(1) == '\"idAmazon\"':\n",
        "        print('Header datafile line: %s' % goldfile_line)\n",
        "        return (goldfile_line, 0)\n",
        "    else:\n",
        "        key = '%s %s' % (removeQuotes(match.group(1)), removeQuotes(match.group(2)))\n",
        "        return ((key, 'gold'), 1)\n",
        "\n",
        "goldfile = GOLD_STANDARD_PATH\n",
        "gsRaw = (sc\n",
        "         .textFile(goldfile)\n",
        "         .map(parse_goldfile_line)\n",
        "         .cache())\n",
        "\n",
        "gsFailed = (gsRaw\n",
        "            .filter(lambda s: s[1] == -1)\n",
        "            .map(lambda s: s[0]))\n",
        "for line in gsFailed.take(10):\n",
        "    print('Invalid goldfile line: %s' % line)\n",
        "\n",
        "goldStandard = (gsRaw\n",
        "                .filter(lambda s: s[1] == 1)\n",
        "                .map(lambda s: s[0])\n",
        "                .cache())\n",
        "\n",
        "print('Read %d lines, successfully parsed %d lines, failed to parse %d lines' % (gsRaw.count(),\n",
        "                                                                                 goldStandard.count(),\n",
        "                                                                                 gsFailed.count()))\n",
        "assert (gsFailed.count() == 0)\n",
        "assert (gsRaw.count() == (goldStandard.count() + 1))"
      ],
      "execution_count": 36,
      "outputs": [
        {
          "output_type": "stream",
          "name": "stdout",
          "text": [
            "Read 1301 lines, successfully parsed 1300 lines, failed to parse 0 lines\n"
          ]
        }
      ]
    },
    {
      "cell_type": "markdown",
      "metadata": {
        "id": "Kyd52O7loKTx"
      },
      "source": [
        "### Using the \"gold standard\" data we can answer the following questions:\n",
        "* #### How many true duplicate pairs are there in the small datasets?\n",
        "* #### What is the average similarity score for true duplicates?\n",
        "* #### What about for non-duplicates?\n",
        "#### The steps you should perform are:\n",
        "* #### Create a new `sims` RDD from the `similaritiesBroadcast` RDD, where each element consists of a pair of the form (\"AmazonID GoogleURL\", cosineSimilarityScore). An example entry from `sims` is: ('b000bi7uqs http://www.google.com/base/feeds/snippets/18403148885652932189', 0.40202896125621296)\n",
        "* #### Combine the `sims` RDD with the `goldStandard` RDD by creating a new `trueDupsRDD` RDD that has the just the cosine similarity scores for those \"AmazonID GoogleURL\" pairs that appear in both the `sims` RDD and `goldStandard` RDD. Hint: you can do this using the join() transformation.\n",
        "* #### Count the number of true duplicate pairs in the `trueDupsRDD` dataset\n",
        "* #### Compute the average similarity score for true duplicates in the `trueDupsRDD` datasets. Remember to use `float` for calculation\n",
        "* #### Create a new `nonDupsRDD` RDD that has the just the cosine similarity scores for those \"AmazonID GoogleURL\" pairs from the `similaritiesBroadcast` RDD that **do not** appear in both the *sims* RDD and gold standard RDD.\n",
        "* #### Compute the average similarity score for non-duplicates in the last datasets. Remember to use `float` for calculation"
      ]
    },
    {
      "cell_type": "code",
      "metadata": {
        "id": "YKUtVdDjoKTx",
        "colab": {
          "base_uri": "https://localhost:8080/"
        },
        "outputId": "e0cdbece-8e35-4a98-e3a6-d80e42bd007c"
      },
      "source": [
        "sims = similaritiesBroadcast.map(lambda x: (x[1] + \" \" + x[0], x[2]))\n",
        "\n",
        "trueDupsRDD = (sims\n",
        "               .join(goldStandard)\n",
        "               .map(lambda x: x[1][0]))\n",
        "\n",
        "trueDupsCount = trueDupsRDD.count()\n",
        "\n",
        "avgSimDups = float(trueDupsRDD.sum() / trueDupsCount)\n",
        "\n",
        "nonDupsRDD = (sims\n",
        "              .subtractByKey(goldStandard)\n",
        "              .map(lambda x: x[1]))\n",
        "\n",
        "nonDupsCount = nonDupsRDD.count()\n",
        "avgSimNon = float(nonDupsRDD.sum() / nonDupsCount)\n",
        "\n",
        "print('There are %s true duplicates.' % trueDupsCount)\n",
        "print('The average similarity of true duplicates is %s.' % avgSimDups)\n",
        "print('And for non duplicates, it is %s.' % avgSimNon)\n"
      ],
      "execution_count": 37,
      "outputs": [
        {
          "output_type": "stream",
          "name": "stdout",
          "text": [
            "There are 146 true duplicates.\n",
            "The average similarity of true duplicates is 0.26433257343519145.\n",
            "And for non duplicates, it is 0.0012347630465555245.\n"
          ]
        }
      ]
    },
    {
      "cell_type": "code",
      "metadata": {
        "id": "yKtHHCksoKTx",
        "colab": {
          "base_uri": "https://localhost:8080/"
        },
        "outputId": "792cd489-31e3-49f0-fd01-a24f0bf28e86"
      },
      "source": [
        "# TEST Perform a Gold Standard evaluation (3e)\n",
        "Test.assertEquals(trueDupsCount, 146, 'incorrect trueDupsCount')\n",
        "Test.assertTrue(abs(avgSimDups - 0.264332573435) < 0.0000001, 'incorrect avgSimDups')\n",
        "Test.assertTrue(abs(avgSimNon - 0.00123476304656) < 0.0000001, 'incorrect avgSimNon')"
      ],
      "execution_count": 38,
      "outputs": [
        {
          "output_type": "stream",
          "name": "stdout",
          "text": [
            "1 test passed.\n",
            "1 test passed.\n",
            "1 test passed.\n"
          ]
        }
      ]
    },
    {
      "cell_type": "markdown",
      "metadata": {
        "id": "Nae0o_0XoKTx"
      },
      "source": [
        "### **Part 4: Scalable ER**\n",
        "#### In the previous parts, we built a text similarity function and used it for small scale entity resolution.  Our implementation is limited by its quadratic run time complexity, and is not practical for even modestly sized datasets.  In this part, we will implement a more scalable algorithm and use it to do entity resolution on the full dataset.\n",
        "### Inverted Indices\n",
        "#### To improve our ER algorithm from the earlier parts, we should begin by analyzing its running time. In particular, the algorithm above is quadratic in two ways. First, we did a lot of redundant computation of tokens and weights, since each record was reprocessed every time it was compared. Second, we made quadratically many token comparisons between records.\n",
        "#### The first source of quadratic overhead can be eliminated with precomputation and look-up tables, but the second source is a little more tricky. In the worst case, every token in every record in one dataset exists in every record in the other dataset, and therefore every token makes a non-zero contribution to the cosine similarity. In this case, token comparison is unavoidably quadratic.\n",
        "#### But in reality most records have nothing (or very little) in common. Moreover, it is typical for a record in one dataset to have at most one duplicate record in the other dataset (this is the case assuming each dataset has been de-duplicated against itself). In this case, the output is linear in the size of the input and we can hope to achieve linear running time.\n",
        "#### An [**inverted index**](https://en.wikipedia.org/wiki/Inverted_index) is a data structure that will allow us to avoid making quadratically many token comparisons.  It maps each token in the dataset to the list of documents that contain the token.  So, instead of comparing, record by record, each token to every other token to see if they match, we will use inverted indices to *look up* records that match on a particular token.\n",
        "> #### **Note on terminology**: In text search, a *forward* index maps documents in a dataset to the tokens they contain.  An *inverted* index supports the inverse mapping.\n",
        "> #### **Note**: For this section, use the complete Google and Amazon datasets, not the samples"
      ]
    },
    {
      "cell_type": "markdown",
      "metadata": {
        "id": "WzqFFvQqoKTx"
      },
      "source": [
        "### **(4a) Tokenize the full dataset**\n",
        "#### Tokenize each of the two full datasets for Google and Amazon."
      ]
    },
    {
      "cell_type": "code",
      "metadata": {
        "id": "8g04dkWpoKTx",
        "colab": {
          "base_uri": "https://localhost:8080/"
        },
        "outputId": "f9b5e9dd-aaa1-4603-b9cb-aab842828320"
      },
      "source": [
        "# Tokenize the full datasets\n",
        "amazonFullRecToToken = amazon.map(lambda record: (record[0], tokenize(record[1])))\n",
        "googleFullRecToToken = google.map(lambda record: (record[0], tokenize(record[1])))\n",
        "\n",
        "print('Amazon full dataset is %s products, Google full dataset is %s products' % (amazonFullRecToToken.count(),\n",
        "                                                                                    googleFullRecToToken.count()))\n"
      ],
      "execution_count": 39,
      "outputs": [
        {
          "output_type": "stream",
          "name": "stdout",
          "text": [
            "Amazon full dataset is 1363 products, Google full dataset is 3226 products\n"
          ]
        }
      ]
    },
    {
      "cell_type": "code",
      "metadata": {
        "id": "VQAK_1DhoKTx",
        "colab": {
          "base_uri": "https://localhost:8080/"
        },
        "outputId": "b668d5d2-a87e-4ab5-9bf5-10aa98bd9d5d"
      },
      "source": [
        "# TEST Tokenize the full dataset (4a)\n",
        "Test.assertEquals(amazonFullRecToToken.count(), 1363, 'incorrect amazonFullRecToToken.count()')\n",
        "Test.assertEquals(googleFullRecToToken.count(), 3226, 'incorrect googleFullRecToToken.count()')"
      ],
      "execution_count": 40,
      "outputs": [
        {
          "output_type": "stream",
          "name": "stdout",
          "text": [
            "1 test passed.\n",
            "1 test passed.\n"
          ]
        }
      ]
    },
    {
      "cell_type": "markdown",
      "metadata": {
        "id": "PVCtPFxdoKTx"
      },
      "source": [
        "### **(4b) Compute IDFs and TF-IDFs for the full datasets**\n",
        "#### We will reuse your code from above to compute IDF weights for the complete combined datasets.\n",
        "#### The steps you should perform are:\n",
        "* #### Create a new `fullCorpusRDD` that contains the tokens from the full Amazon and Google datasets.\n",
        "* #### Apply your `idfs` function to the `fullCorpusRDD`\n",
        "* #### Create a broadcast variable containing a dictionary of the IDF weights for the full dataset.\n",
        "* #### For each of the Amazon and Google full datasets, create weight RDDs that map IDs/URLs to TF-IDF weighted token vectors."
      ]
    },
    {
      "cell_type": "code",
      "metadata": {
        "id": "epjquG_ioKTy",
        "colab": {
          "base_uri": "https://localhost:8080/"
        },
        "outputId": "d00b89d3-6611-4520-e04b-14d329cfb2e3"
      },
      "source": [
        "# Create a new full corpus RDD\n",
        "fullCorpusRDD = amazonFullRecToToken.union(googleFullRecToToken)\n",
        "\n",
        "# Get the IDFs using the fullCorpusRDD\n",
        "idfsFull = idfs(fullCorpusRDD)\n",
        "idfsFullCount = idfsFull.count()\n",
        "print('There are %s unique tokens in the full datasets.' % idfsFullCount)\n",
        "\n",
        "# Convert IDFs to dictionary and broadcast\n",
        "idfsFullWeights = idfsFull.collectAsMap()\n",
        "idfsFullBroadcast = sc.broadcast(idfsFullWeights)\n",
        "\n",
        "# Compute TF-IDF weights for Amazon and Google datasets\n",
        "amazonWeightsRDD = amazonFullRecToToken.map(lambda record: (record[0], tfidf(record[1], idfsFullBroadcast.value)))\n",
        "googleWeightsRDD = googleFullRecToToken.map(lambda record: (record[0], tfidf(record[1], idfsFullBroadcast.value)))\n",
        "\n",
        "print('There are %s Amazon weights and %s Google weights.' % (amazonWeightsRDD.count(),\n",
        "                                                              googleWeightsRDD.count()))\n"
      ],
      "execution_count": 41,
      "outputs": [
        {
          "output_type": "stream",
          "name": "stdout",
          "text": [
            "There are 17078 unique tokens in the full datasets.\n",
            "There are 1363 Amazon weights and 3226 Google weights.\n"
          ]
        }
      ]
    },
    {
      "cell_type": "code",
      "metadata": {
        "id": "mlAlMOaloKTy",
        "colab": {
          "base_uri": "https://localhost:8080/"
        },
        "outputId": "d8a6b0ba-89b4-4b8f-e390-04ecb8005e0e"
      },
      "source": [
        "# TEST Compute IDFs and TF-IDFs for the full datasets (4b)\n",
        "Test.assertEquals(idfsFullCount, 17078, 'incorrect idfsFullCount')\n",
        "Test.assertEquals(amazonWeightsRDD.count(), 1363, 'incorrect amazonWeightsRDD.count()')\n",
        "Test.assertEquals(googleWeightsRDD.count(), 3226, 'incorrect googleWeightsRDD.count()')"
      ],
      "execution_count": 42,
      "outputs": [
        {
          "output_type": "stream",
          "name": "stdout",
          "text": [
            "1 test passed.\n",
            "1 test passed.\n",
            "1 test passed.\n"
          ]
        }
      ]
    },
    {
      "cell_type": "markdown",
      "metadata": {
        "id": "BNDu10FKoKTy"
      },
      "source": [
        "### **(4c) Compute Norms for the weights from the full datasets**\n",
        "#### We will reuse your code from above to compute norms of the IDF weights for the complete combined dataset.\n",
        "#### The steps you should perform are:\n",
        "* #### Create two collections, one for each of the full Amazon and Google datasets, where IDs/URLs map to the norm of the associated TF-IDF weighted token vectors.\n",
        "* #### Convert each collection into a broadcast variable, containing a dictionary of the norm of IDF weights for the full dataset"
      ]
    },
    {
      "cell_type": "code",
      "metadata": {
        "id": "rm9_sZ5OoKTy"
      },
      "source": [
        "# Compute the norms for the Amazon and Google datasets\n",
        "amazonNorms = amazonWeightsRDD.map(lambda record: (record[0], norm(record[1]))).collectAsMap()\n",
        "googleNorms = googleWeightsRDD.map(lambda record: (record[0], norm(record[1]))).collectAsMap()\n",
        "\n",
        "# Convert the norms to broadcast variables\n",
        "amazonNormsBroadcast = sc.broadcast(amazonNorms)\n",
        "googleNormsBroadcast = sc.broadcast(googleNorms)\n"
      ],
      "execution_count": 43,
      "outputs": []
    },
    {
      "cell_type": "code",
      "metadata": {
        "id": "NpHPYiL9oKTy",
        "colab": {
          "base_uri": "https://localhost:8080/"
        },
        "outputId": "3e425a64-8bda-4027-8f48-faed0d87c43a"
      },
      "source": [
        "# TEST Compute Norms for the weights from the full datasets (4c)\n",
        "Test.assertTrue(isinstance(amazonNormsBroadcast, Broadcast), 'incorrect amazonNormsBroadcast')\n",
        "Test.assertEquals(len(amazonNormsBroadcast.value), 1363, 'incorrect amazonNormsBroadcast.value')\n",
        "Test.assertTrue(isinstance(googleNormsBroadcast, Broadcast), 'incorrect googleNormsBroadcast')\n",
        "Test.assertEquals(len(googleNormsBroadcast.value), 3226, 'incorrect googleNormsBroadcast.value')"
      ],
      "execution_count": 44,
      "outputs": [
        {
          "output_type": "stream",
          "name": "stdout",
          "text": [
            "1 test passed.\n",
            "1 test passed.\n",
            "1 test passed.\n",
            "1 test passed.\n"
          ]
        }
      ]
    },
    {
      "cell_type": "markdown",
      "metadata": {
        "id": "s4TQAiiOoKTy"
      },
      "source": [
        "### **(4d) Create inverted indicies from the full datasets**\n",
        "#### Build inverted indices of both data sources.\n",
        "#### The steps you should perform are:\n",
        "* #### Create an invert function that given a pair of (ID/URL, TF-IDF weighted token vector), returns a list of pairs of (token, ID/URL). Recall that the TF-IDF weighted token vector is a Python dictionary with keys that are tokens and values that are weights.\n",
        "* #### Use your invert function to convert the full Amazon and Google TF-IDF weighted token vector datasets into two RDDs where each element is a pair of a token and an ID/URL that contain that token. These are inverted indicies."
      ]
    },
    {
      "cell_type": "code",
      "metadata": {
        "id": "79binCSPoKTy",
        "colab": {
          "base_uri": "https://localhost:8080/"
        },
        "outputId": "33221383-72fa-413d-b5b8-5b8984e4828e"
      },
      "source": [
        "def invert(record):\n",
        "    \"\"\" Invert (ID, tokens) to a list of (token, ID)\n",
        "    Args:\n",
        "        record: a pair, (ID, token vector)\n",
        "    Returns:\n",
        "        pairs: a list of pairs of token to ID\n",
        "    \"\"\"\n",
        "    ID, token_vector = record\n",
        "    pairs = [(token, ID) for token in token_vector.keys()]\n",
        "    return pairs\n",
        "\n",
        "amazonInvPairsRDD = amazonWeightsRDD.flatMap(invert).cache()\n",
        "googleInvPairsRDD = googleWeightsRDD.flatMap(invert).cache()\n",
        "\n",
        "print('There are %s Amazon inverted pairs and %s Google inverted pairs.' % (amazonInvPairsRDD.count(),\n",
        "                                                                            googleInvPairsRDD.count()))\n"
      ],
      "execution_count": 45,
      "outputs": [
        {
          "output_type": "stream",
          "name": "stdout",
          "text": [
            "There are 111387 Amazon inverted pairs and 77678 Google inverted pairs.\n"
          ]
        }
      ]
    },
    {
      "cell_type": "code",
      "metadata": {
        "id": "1AZ7ky7SoKTy",
        "colab": {
          "base_uri": "https://localhost:8080/"
        },
        "outputId": "7482d77e-428f-49e2-d084-242ceac62356"
      },
      "source": [
        "# TEST Create inverted indicies from the full datasets (4d)\n",
        "invertedPair = invert((1, {'foo': 2}))\n",
        "Test.assertEquals(invertedPair[0][1], 1, 'incorrect invert result')\n",
        "Test.assertEquals(amazonInvPairsRDD.count(), 111387, 'incorrect amazonInvPairsRDD.count()')\n",
        "Test.assertEquals(googleInvPairsRDD.count(), 77678, 'incorrect googleInvPairsRDD.count()')"
      ],
      "execution_count": 46,
      "outputs": [
        {
          "output_type": "stream",
          "name": "stdout",
          "text": [
            "1 test passed.\n",
            "1 test passed.\n",
            "1 test passed.\n"
          ]
        }
      ]
    },
    {
      "cell_type": "markdown",
      "metadata": {
        "id": "oauX71P-oKTy"
      },
      "source": [
        "### **(4e) Identify common tokens from the full dataset**\n",
        "#### We are now in position to efficiently perform ER on the full datasets. Implement the following algorithm to build an RDD that maps a pair of (ID, URL) to a list of tokens they share in common:\n",
        "* #### Using the two inverted indicies (RDDs where each element is a pair of a token and an ID or URL that contains that token), create a new RDD that contains only tokens that appear in both datasets. This will yield an RDD of pairs of (token, iterable(ID, URL)).\n",
        "* #### We need a mapping from (ID, URL) to token, so create a function that will swap the elements of the RDD you just created to create this new RDD consisting of ((ID, URL), token) pairs.\n",
        "* #### Finally, create an RDD consisting of pairs mapping (ID, URL) to all the tokens the pair shares in common"
      ]
    },
    {
      "cell_type": "code",
      "metadata": {
        "id": "XgBXhdKdoKTy",
        "colab": {
          "base_uri": "https://localhost:8080/"
        },
        "outputId": "f0fc7df9-9682-4a64-dec9-bf29ca45bd87"
      },
      "source": [
        "def swap(record):\n",
        "    \"\"\" Swap (token, (ID, URL)) to ((ID, URL), token)\n",
        "    Args:\n",
        "        record: a pair, (token, (ID, URL))\n",
        "    Returns:\n",
        "        pair: ((ID, URL), token)\n",
        "    \"\"\"\n",
        "    token, (ID, URL) = record\n",
        "    return ((ID, URL), token)\n",
        "\n",
        "commonTokens = (amazonInvPairsRDD\n",
        "                .join(googleInvPairsRDD)  # This gives (token, (ID, URL)) pairs\n",
        "                .map(swap)  # Swap to get ((ID, URL), token) pairs\n",
        "                .groupByKey()  # Group by (ID, URL) keys\n",
        "                .cache())\n",
        "\n",
        "print('Found %d common tokens' % commonTokens.count())\n"
      ],
      "execution_count": 47,
      "outputs": [
        {
          "output_type": "stream",
          "name": "stdout",
          "text": [
            "Found 2441100 common tokens\n"
          ]
        }
      ]
    },
    {
      "cell_type": "code",
      "metadata": {
        "id": "IAFcPmU1oKTz",
        "colab": {
          "base_uri": "https://localhost:8080/"
        },
        "outputId": "ed21b505-b4a7-4fc2-bcaf-94074e9a327f"
      },
      "source": [
        "# TEST Identify common tokens from the full dataset (4e)\n",
        "Test.assertEquals(commonTokens.count(), 2441100, 'incorrect commonTokens.count()')"
      ],
      "execution_count": 48,
      "outputs": [
        {
          "output_type": "stream",
          "name": "stdout",
          "text": [
            "1 test passed.\n"
          ]
        }
      ]
    },
    {
      "cell_type": "markdown",
      "metadata": {
        "id": "d5fR02T1oKTz"
      },
      "source": [
        "### **(4f) Identify common tokens from the full dataset**\n",
        "#### Use the data structures from parts **(4a)** and **(4e)** to build a dictionary to map record pairs to cosine similarity scores.\n",
        "#### The steps you should perform are:\n",
        "* #### Create two broadcast dictionaries from the amazonWeights and googleWeights RDDs\n",
        "* #### Create a `fastCosinesSimilarity` function that takes in a record consisting of the pair ((Amazon ID, Google URL), tokens list) and computes the sum for each of the tokens in the token list of the products of the Amazon weight for the token times the Google weight for the token. The sum should then be divided by the norm for the Google URL and then divided by the norm for the Amazon ID. The function should return this value in a pair with the key being the (Amazon ID, Google URL). *Make sure you use broadcast variables you created for both the weights and norms*\n",
        "* #### Apply your `fastCosinesSimilarity` function to the common tokens from the full dataset"
      ]
    },
    {
      "cell_type": "code",
      "metadata": {
        "id": "HNcoGk0noKTz",
        "colab": {
          "base_uri": "https://localhost:8080/"
        },
        "outputId": "a4d991e2-bcf1-4d75-cda7-6087d9e92064"
      },
      "source": [
        "amazonWeightsBroadcast = sc.broadcast(amazonWeightsRDD.collectAsMap())\n",
        "googleWeightsBroadcast = sc.broadcast(googleWeightsRDD.collectAsMap())\n",
        "amazonNormsBroadcast = sc.broadcast(amazonNorms)\n",
        "googleNormsBroadcast = sc.broadcast(googleNorms)\n",
        "\n",
        "def fastCosineSimilarity(record):\n",
        "    \"\"\" Compute Cosine Similarity using Broadcast variables\n",
        "    Args:\n",
        "        record: ((ID, URL), tokens list)\n",
        "    Returns:\n",
        "        pair: ((ID, URL), cosine similarity value)\n",
        "    \"\"\"\n",
        "    amazonID, googleURL = record[0]\n",
        "    tokens = record[1]\n",
        "    s = sum([amazonWeightsBroadcast.value[amazonID][token] * googleWeightsBroadcast.value[googleURL][token]\n",
        "             for token in tokens])\n",
        "\n",
        "    value = s / (amazonNormsBroadcast.value[amazonID] * googleNormsBroadcast.value[googleURL])\n",
        "    return ((amazonID, googleURL), value)\n",
        "\n",
        "similaritiesFullRDD = commonTokens.map(fastCosineSimilarity).cache()\n",
        "\n",
        "print(similaritiesFullRDD.count())\n"
      ],
      "execution_count": 49,
      "outputs": [
        {
          "output_type": "stream",
          "name": "stdout",
          "text": [
            "2441100\n"
          ]
        }
      ]
    },
    {
      "cell_type": "code",
      "metadata": {
        "id": "pQilhkbVoKTz",
        "colab": {
          "base_uri": "https://localhost:8080/"
        },
        "outputId": "edeadea4-ea56-49c1-dd79-f0cc842af3be"
      },
      "source": [
        "# TEST Identify common tokens from the full dataset (4f)\n",
        "similarityTest = similaritiesFullRDD.filter(lambda aID_gURL_cs: aID_gURL_cs[0][0] == 'b00005lzly' and aID_gURL_cs[0][1] == 'http://www.google.com/base/feeds/snippets/13823221823254120257').collect()\n",
        "Test.assertEquals(len(similarityTest), 1, 'incorrect len(similarityTest)')\n",
        "Test.assertTrue(abs(similarityTest[0][1] - 4.286548414e-06) < 0.000000000001, 'incorrect similarityTest fastCosineSimilarity')\n",
        "Test.assertEquals(similaritiesFullRDD.count(), 2441100, 'incorrect similaritiesFullRDD.count()')"
      ],
      "execution_count": 50,
      "outputs": [
        {
          "output_type": "stream",
          "name": "stdout",
          "text": [
            "1 test passed.\n",
            "1 test passed.\n",
            "1 test passed.\n"
          ]
        }
      ]
    },
    {
      "cell_type": "markdown",
      "metadata": {
        "id": "EjGj9C7coKTz"
      },
      "source": [
        "### **Part 5: Analysis**\n",
        "#### Now we have an authoritative list of record-pair similarities, but we need a way to use those similarities to decide if two records are duplicates or not. The simplest approach is to pick a **threshold**. Pairs whose similarity is above the threshold are declared duplicates, and pairs below the threshold are declared distinct.\n",
        "#### To decide where to set the threshold we need to understand what kind of errors result at different levels. If we set the threshold too low, we get more **false positives**, that is, record-pairs we say are duplicates that in reality are not. If we set the threshold too high, we get more **false negatives**, that is, record-pairs that really are duplicates but that we miss.\n",
        "#### ER algorithms are evaluated by the common metrics of information retrieval and search called **precision** and **recall**. Precision asks of all the record-pairs marked duplicates, what fraction are true duplicates? Recall asks of all the true duplicates in the data, what fraction did we successfully find? As with false positives and false negatives, there is a trade-off between precision and recall. A third metric, called **F-measure**, takes the harmonic mean of precision and recall to measure overall goodness in a single value:\n",
        "#### $$ Fmeasure = 2 \\frac{precision * recall}{precision + recall} $$\n",
        "> #### **Note**: In this part, we use the \"gold standard\" mapping from the included file to look up true duplicates, and the results of Part 4.\n",
        "> #### **Note**: In this part, you will not be writing any code. We've written all of the code for you."
      ]
    },
    {
      "cell_type": "markdown",
      "metadata": {
        "id": "FiAv_fe4oKTz"
      },
      "source": [
        "### **(5a) Counting True Positives, False Positives, and False Negatives**\n",
        "#### We need functions that count True Positives (true duplicates above the threshold), and False Positives and False Negatives:\n",
        "* #### We start with creating the `simsFullRDD` from our `similaritiesFullRDD` that consists of a pair of ((Amazon ID, Google URL), simlarity score)\n",
        "* #### From this RDD, we create an RDD consisting of only the similarity scores\n",
        "* #### To look up the similarity scores for true duplicates, we perform a left outer join using the `goldStandard` RDD and `simsFullRDD` and extract the"
      ]
    },
    {
      "cell_type": "code",
      "metadata": {
        "id": "VNzqiWBCoKTz",
        "colab": {
          "base_uri": "https://localhost:8080/"
        },
        "outputId": "7e5f84ae-07cd-4dd3-a76c-da7418f96ce2"
      },
      "source": [
        "# Create an RDD of ((Amazon ID, Google URL), similarity score)\n",
        "simsFullRDD = similaritiesFullRDD.map(lambda x: (\"%s %s\" % (x[0][0], x[0][1]), x[1]))\n",
        "assert (simsFullRDD.count() == 2441100)\n",
        "\n",
        "# Create an RDD of just the similarity scores\n",
        "simsFullValuesRDD = (simsFullRDD\n",
        "                     .map(lambda x: x[1])\n",
        "                     .cache())\n",
        "assert (simsFullValuesRDD.count() == 2441100)\n",
        "\n",
        "# Look up all similarity scores for true duplicates\n",
        "\n",
        "# This helper function will return the similarity score for records that are in the gold standard and the simsFullRDD (True positives), and will return 0 for records that are in the gold standard but not in simsFullRDD (False Negatives).\n",
        "def gs_value(record):\n",
        "    if (record[1][1] is None):\n",
        "        return 0\n",
        "    else:\n",
        "        return record[1][1]\n",
        "\n",
        "# Join the gold standard and simsFullRDD, and then extract the similarities scores using the helper function\n",
        "trueDupSimsRDD = (goldStandard\n",
        "                  .leftOuterJoin(simsFullRDD)\n",
        "                  .map(gs_value)\n",
        "                  .cache())\n",
        "print('There are %s true duplicates.' % trueDupSimsRDD.count())\n",
        "assert(trueDupSimsRDD.count() == 1300)"
      ],
      "execution_count": 51,
      "outputs": [
        {
          "output_type": "stream",
          "name": "stdout",
          "text": [
            "There are 1300 true duplicates.\n"
          ]
        }
      ]
    },
    {
      "cell_type": "markdown",
      "metadata": {
        "id": "JzKQlbhsoKTz"
      },
      "source": [
        "#### The next step is to pick a threshold between 0 and 1 for the count of True Positives (true duplicates above the threshold). However, we would like to explore many different thresholds. To do this, we divide the space of thresholds into 100 bins, and take the following actions:\n",
        "* #### We use Spark Accumulators to implement our counting function. We define a custom accumulator type, `VectorAccumulatorParam`, along with functions to initialize the accumulator's vector to zero, and to add two vectors. Note that we have to use the += operator because you can only add to an accumulator.\n",
        "* #### We create a helper function to create a list with one entry (bit) set to a value and all others set to 0.\n",
        "* #### We create 101 bins for the 100 threshold values between 0 and 1.\n",
        "* #### Now, for each similarity score, we can compute the false positives. We do this by adding each similarity score to the appropriate bin of the vector. Then we remove true positives from the vector by using the gold standard data.\n",
        "* #### We define functions for computing false positive and negative and true positives, for a given threshold."
      ]
    },
    {
      "cell_type": "code",
      "metadata": {
        "id": "hN43vnNmoKTz"
      },
      "source": [
        "from pyspark.accumulators import AccumulatorParam\n",
        "class VectorAccumulatorParam(AccumulatorParam):\n",
        "    # Initialize the VectorAccumulator to 0\n",
        "    def zero(self, value):\n",
        "        return [0] * len(value)\n",
        "\n",
        "    # Add two VectorAccumulator variables\n",
        "    def addInPlace(self, val1, val2):\n",
        "        for i in range(len(val1)):\n",
        "            val1[i] += val2[i]\n",
        "        return val1\n",
        "\n",
        "# Return a list with entry x set to value and all other entries set to 0\n",
        "def set_bit(x, value, length):\n",
        "    bits = []\n",
        "    for y in range(length):\n",
        "        if (x == y):\n",
        "          bits.append(value)\n",
        "        else:\n",
        "          bits.append(0)\n",
        "    return bits\n",
        "\n",
        "# Pre-bin counts of false positives for different threshold ranges\n",
        "BINS = 101\n",
        "nthresholds = 100\n",
        "def bin(similarity):\n",
        "    return int(similarity * nthresholds)\n",
        "\n",
        "# fpCounts[i] = number of entries (possible false positives) where bin(similarity) == i\n",
        "zeros = [0] * BINS\n",
        "fpCounts = sc.accumulator(zeros, VectorAccumulatorParam())\n",
        "\n",
        "def add_element(score):\n",
        "    global fpCounts\n",
        "    b = bin(score)\n",
        "    fpCounts += set_bit(b, 1, BINS)\n",
        "\n",
        "simsFullValuesRDD.foreach(add_element)\n",
        "\n",
        "# Remove true positives from FP counts\n",
        "def sub_element(score):\n",
        "    global fpCounts\n",
        "    b = bin(score)\n",
        "    fpCounts += set_bit(b, -1, BINS)\n",
        "\n",
        "trueDupSimsRDD.foreach(sub_element)\n",
        "\n",
        "def falsepos(threshold):\n",
        "    fpList = fpCounts.value\n",
        "    return sum([fpList[b] for b in range(0, BINS) if float(b) / nthresholds >= threshold])\n",
        "\n",
        "def falseneg(threshold):\n",
        "    return trueDupSimsRDD.filter(lambda x: x < threshold).count()\n",
        "\n",
        "def truepos(threshold):\n",
        "    return trueDupSimsRDD.count() - falsenegDict[threshold]"
      ],
      "execution_count": 52,
      "outputs": []
    },
    {
      "cell_type": "markdown",
      "metadata": {
        "id": "brpZWkdsoKT0"
      },
      "source": [
        "### **(5b) Precision, Recall, and F-measures**\n",
        "#### We define functions so that we can compute the [Precision][precision-recall], [Recall][precision-recall], and [F-measure][f-measure] as a function of threshold value:\n",
        "* #### Precision = true-positives / (true-positives + false-positives)\n",
        "* #### Recall = true-positives / (true-positives + false-negatives)\n",
        "* #### F-measure = 2 x Recall x Precision / (Recall + Precision)\n",
        "[precision-recall]: https://en.wikipedia.org/wiki/Precision_and_recall\n",
        "[f-measure]: https://en.wikipedia.org/wiki/Precision_and_recall#F-measure"
      ]
    },
    {
      "cell_type": "code",
      "metadata": {
        "id": "nZ3Ihoi3oKT0"
      },
      "source": [
        "# Precision = true-positives / (true-positives + false-positives)\n",
        "# Recall = true-positives / (true-positives + false-negatives)\n",
        "# F-measure = 2 x Recall x Precision / (Recall + Precision)\n",
        "\n",
        "def precision(threshold):\n",
        "    tp = trueposDict[threshold]\n",
        "    return float(tp) / (tp + falseposDict[threshold])\n",
        "\n",
        "def recall(threshold):\n",
        "    tp = trueposDict[threshold]\n",
        "    return float(tp) / (tp + falsenegDict[threshold])\n",
        "\n",
        "def fmeasure(threshold):\n",
        "    r = recall(threshold)\n",
        "    p = precision(threshold)\n",
        "    return 2 * r * p / (r + p)"
      ],
      "execution_count": 53,
      "outputs": []
    },
    {
      "cell_type": "markdown",
      "metadata": {
        "id": "-3FQ4YDfoKT0"
      },
      "source": [
        "### **(5c) Line Plots**\n",
        "#### We can make line plots of precision, recall, and F-measure as a function of threshold value, for thresholds between 0.0 and 1.0.  You can change `nthresholds` (above in part **(5a)**) to change the threshold values to plot."
      ]
    },
    {
      "cell_type": "markdown",
      "metadata": {
        "id": "cKxrcfBi0cPP"
      },
      "source": []
    },
    {
      "cell_type": "code",
      "metadata": {
        "id": "i-kQsNsmoKT0",
        "colab": {
          "base_uri": "https://localhost:8080/",
          "height": 447
        },
        "outputId": "79f01d9f-0d5a-4708-fe25-b8a680ad14e1"
      },
      "source": [
        "thresholds = [float(n) / nthresholds for n in range(0, nthresholds)]\n",
        "falseposDict = dict([(t, falsepos(t)) for t in thresholds])\n",
        "falsenegDict = dict([(t, falseneg(t)) for t in thresholds])\n",
        "trueposDict = dict([(t, truepos(t)) for t in thresholds])\n",
        "\n",
        "precisions = [precision(t) for t in thresholds]\n",
        "recalls = [recall(t) for t in thresholds]\n",
        "fmeasures = [fmeasure(t) for t in thresholds]\n",
        "\n",
        "print(precisions[0], fmeasures[0])\n",
        "assert (abs(precisions[0] - 0.000532546802671) < 0.0000001)\n",
        "assert (abs(fmeasures[0] - 0.00106452669505) < 0.0000001)\n",
        "\n",
        "\n",
        "fig = plt.figure()\n",
        "plt.plot(thresholds, precisions)\n",
        "plt.plot(thresholds, recalls)\n",
        "plt.plot(thresholds, fmeasures)\n",
        "plt.legend(['Precision', 'Recall', 'F-measure'])\n",
        "pass"
      ],
      "execution_count": 54,
      "outputs": [
        {
          "output_type": "stream",
          "name": "stdout",
          "text": [
            "0.0005325468026709271 0.0010645266950540452\n"
          ]
        },
        {
          "output_type": "display_data",
          "data": {
            "text/plain": [
              "<Figure size 640x480 with 1 Axes>"
            ],
            "image/png": "[encoded data removed]"
          },
          "metadata": {}
        }
      ]
    },
    {
      "cell_type": "markdown",
      "metadata": {
        "id": "9AWiZaXWKkmT"
      },
      "source": [
        "#### **Submission Intruction:**\n",
        "\n",
        "#### Click File -> Download -> Download .ipynb, and upload the downloaded file to Blackboard."
      ]
    },
    {
      "cell_type": "markdown",
      "metadata": {
        "id": "PrbMff-ToKT0"
      },
      "source": [
        "### Discussion\n",
        "#### State-of-the-art tools can get an F-measure of about 60% on this dataset. In this homework, our best F-measure is closer to 40%. Look at some examples of errors (both False Positives and False Negatives) and think about what went wrong.\n",
        "### There are several ways we might improve our simple classifier, including:\n",
        "#### * Using additional attributes\n",
        "#### * Performing better featurization of our textual data (e.g., stemming, n-grams, etc.)\n",
        "#### * Using different similarity functions"
      ]
    }
  ]
}