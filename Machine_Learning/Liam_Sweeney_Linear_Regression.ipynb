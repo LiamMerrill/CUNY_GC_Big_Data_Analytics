{
  "nbformat": 4,
  "nbformat_minor": 0,
  "metadata": {
    "colab": {
      "provenance": []
    },
    "kernelspec": {
      "name": "python3",
      "display_name": "Python 3"
    },
    "language_info": {
      "name": "python"
    }
  },
  "cells": [
    {
      "cell_type": "markdown",
      "source": [
        "##Linear Classification"
      ],
      "metadata": {
        "id": "4PK4z5ewBOFV"
      }
    },
    {
      "cell_type": "markdown",
      "source": [
        "##Load and Inspect Data"
      ],
      "metadata": {
        "id": "INkbJGNGBTAs"
      }
    },
    {
      "cell_type": "markdown",
      "source": [
        "Dataset from the [website](https://archive.ics.uci.edu/ml/datasets/banknote+authentication#). Here are the information provided by the website.\n",
        "\n",
        "Attribute Information:\n",
        "\n",
        "1. variance of Wavelet Transformed image (continuous)\n",
        "2. skewness of Wavelet Transformed image (continuous)\n",
        "3. curtosis of Wavelet Transformed image (continuous)\n",
        "4. entropy of image (continuous)\n",
        "5. class (integer)\n",
        "\n"
      ],
      "metadata": {
        "id": "7A_I9NEU4YiY"
      }
    },
    {
      "cell_type": "code",
      "execution_count": 1,
      "metadata": {
        "colab": {
          "base_uri": "https://localhost:8080/"
        },
        "id": "4o1Gyqw-z8gn",
        "outputId": "1d4f8929-3373-4559-e626-781afd9e4cdc"
      },
      "outputs": [
        {
          "output_type": "stream",
          "name": "stdout",
          "text": [
            "--2023-10-05 18:38:24--  https://archive.ics.uci.edu/ml/machine-learning-databases/00267/data_banknote_authentication.txt\n",
            "Resolving archive.ics.uci.edu (archive.ics.uci.edu)... 128.195.10.252\n",
            "Connecting to archive.ics.uci.edu (archive.ics.uci.edu)|128.195.10.252|:443... connected.\n",
            "HTTP request sent, awaiting response... 200 OK\n",
            "Length: unspecified\n",
            "Saving to: ‘data_banknote_authentication.txt’\n",
            "\n",
            "data_banknote_authe     [ <=>                ]  45.31K  --.-KB/s    in 0.1s    \n",
            "\n",
            "2023-10-05 18:38:24 (451 KB/s) - ‘data_banknote_authentication.txt’ saved [46400]\n",
            "\n"
          ]
        }
      ],
      "source": [
        "!wget https://archive.ics.uci.edu/ml/machine-learning-databases/00267/data_banknote_authentication.txt"
      ]
    },
    {
      "cell_type": "markdown",
      "source": [
        "###Load and Inspect Data"
      ],
      "metadata": {
        "id": "gamoJ927IgTg"
      }
    },
    {
      "cell_type": "code",
      "source": [
        "import pandas as pd\n",
        "data = pd.read_csv('data_banknote_authentication.txt', sep = ',', header=None,\n",
        "                   names=[\"Variance\", \"Skewness\", \"Curtosis\", \"Entropy\", \"Class\"])\n",
        "data.head()"
      ],
      "metadata": {
        "colab": {
          "base_uri": "https://localhost:8080/",
          "height": 206
        },
        "id": "QpBckIOr3euJ",
        "outputId": "72782dd1-5c84-4fab-8f78-3308c996a2ef"
      },
      "execution_count": 2,
      "outputs": [
        {
          "output_type": "execute_result",
          "data": {
            "text/plain": [
              "   Variance  Skewness  Curtosis  Entropy  Class\n",
              "0   3.62160    8.6661   -2.8073 -0.44699      0\n",
              "1   4.54590    8.1674   -2.4586 -1.46210      0\n",
              "2   3.86600   -2.6383    1.9242  0.10645      0\n",
              "3   3.45660    9.5228   -4.0112 -3.59440      0\n",
              "4   0.32924   -4.4552    4.5718 -0.98880      0"
            ],
            "text/html": [
              "\n",
              "  <div id=\"df-64d39ea0-2814-4df3-91d3-532737fce794\" class=\"colab-df-container\">\n",
              "    <div>\n",
              "<style scoped>\n",
              "    .dataframe tbody tr th:only-of-type {\n",
              "        vertical-align: middle;\n",
              "    }\n",
              "\n",
              "    .dataframe tbody tr th {\n",
              "        vertical-align: top;\n",
              "    }\n",
              "\n",
              "    .dataframe thead th {\n",
              "        text-align: right;\n",
              "    }\n",
              "</style>\n",
              "<table border=\"1\" class=\"dataframe\">\n",
              "  <thead>\n",
              "    <tr style=\"text-align: right;\">\n",
              "      <th></th>\n",
              "      <th>Variance</th>\n",
              "      <th>Skewness</th>\n",
              "      <th>Curtosis</th>\n",
              "      <th>Entropy</th>\n",
              "      <th>Class</th>\n",
              "    </tr>\n",
              "  </thead>\n",
              "  <tbody>\n",
              "    <tr>\n",
              "      <th>0</th>\n",
              "      <td>3.62160</td>\n",
              "      <td>8.6661</td>\n",
              "      <td>-2.8073</td>\n",
              "      <td>-0.44699</td>\n",
              "      <td>0</td>\n",
              "    </tr>\n",
              "    <tr>\n",
              "      <th>1</th>\n",
              "      <td>4.54590</td>\n",
              "      <td>8.1674</td>\n",
              "      <td>-2.4586</td>\n",
              "      <td>-1.46210</td>\n",
              "      <td>0</td>\n",
              "    </tr>\n",
              "    <tr>\n",
              "      <th>2</th>\n",
              "      <td>3.86600</td>\n",
              "      <td>-2.6383</td>\n",
              "      <td>1.9242</td>\n",
              "      <td>0.10645</td>\n",
              "      <td>0</td>\n",
              "    </tr>\n",
              "    <tr>\n",
              "      <th>3</th>\n",
              "      <td>3.45660</td>\n",
              "      <td>9.5228</td>\n",
              "      <td>-4.0112</td>\n",
              "      <td>-3.59440</td>\n",
              "      <td>0</td>\n",
              "    </tr>\n",
              "    <tr>\n",
              "      <th>4</th>\n",
              "      <td>0.32924</td>\n",
              "      <td>-4.4552</td>\n",
              "      <td>4.5718</td>\n",
              "      <td>-0.98880</td>\n",
              "      <td>0</td>\n",
              "    </tr>\n",
              "  </tbody>\n",
              "</table>\n",
              "</div>\n",
              "    <div class=\"colab-df-buttons\">\n",
              "\n",
              "  <div class=\"colab-df-container\">\n",
              "    <button class=\"colab-df-convert\" onclick=\"convertToInteractive('df-64d39ea0-2814-4df3-91d3-532737fce794')\"\n",
              "            title=\"Convert this dataframe to an interactive table.\"\n",
              "            style=\"display:none;\">\n",
              "\n",
              "  <svg xmlns=\"http://www.w3.org/2000/svg\" height=\"24px\" viewBox=\"0 -960 960 960\">\n",
              "    <path d=\"M120-120v-720h720v720H120Zm60-500h600v-160H180v160Zm220 220h160v-160H400v160Zm0 220h160v-160H400v160ZM180-400h160v-160H180v160Zm440 0h160v-160H620v160ZM180-180h160v-160H180v160Zm440 0h160v-160H620v160Z\"/>\n",
              "  </svg>\n",
              "    </button>\n",
              "\n",
              "  <style>\n",
              "    .colab-df-container {\n",
              "      display:flex;\n",
              "      gap: 12px;\n",
              "    }\n",
              "\n",
              "    .colab-df-convert {\n",
              "      background-color: #E8F0FE;\n",
              "      border: none;\n",
              "      border-radius: 50%;\n",
              "      cursor: pointer;\n",
              "      display: none;\n",
              "      fill: #1967D2;\n",
              "      height: 32px;\n",
              "      padding: 0 0 0 0;\n",
              "      width: 32px;\n",
              "    }\n",
              "\n",
              "    .colab-df-convert:hover {\n",
              "      background-color: #E2EBFA;\n",
              "      box-shadow: 0px 1px 2px rgba(60, 64, 67, 0.3), 0px 1px 3px 1px rgba(60, 64, 67, 0.15);\n",
              "      fill: #174EA6;\n",
              "    }\n",
              "\n",
              "    .colab-df-buttons div {\n",
              "      margin-bottom: 4px;\n",
              "    }\n",
              "\n",
              "    [theme=dark] .colab-df-convert {\n",
              "      background-color: #3B4455;\n",
              "      fill: #D2E3FC;\n",
              "    }\n",
              "\n",
              "    [theme=dark] .colab-df-convert:hover {\n",
              "      background-color: #434B5C;\n",
              "      box-shadow: 0px 1px 3px 1px rgba(0, 0, 0, 0.15);\n",
              "      filter: drop-shadow(0px 1px 2px rgba(0, 0, 0, 0.3));\n",
              "      fill: #FFFFFF;\n",
              "    }\n",
              "  </style>\n",
              "\n",
              "    <script>\n",
              "      const buttonEl =\n",
              "        document.querySelector('#df-64d39ea0-2814-4df3-91d3-532737fce794 button.colab-df-convert');\n",
              "      buttonEl.style.display =\n",
              "        google.colab.kernel.accessAllowed ? 'block' : 'none';\n",
              "\n",
              "      async function convertToInteractive(key) {\n",
              "        const element = document.querySelector('#df-64d39ea0-2814-4df3-91d3-532737fce794');\n",
              "        const dataTable =\n",
              "          await google.colab.kernel.invokeFunction('convertToInteractive',\n",
              "                                                    [key], {});\n",
              "        if (!dataTable) return;\n",
              "\n",
              "        const docLinkHtml = 'Like what you see? Visit the ' +\n",
              "          '<a target=\"_blank\" href=https://colab.research.google.com/notebooks/data_table.ipynb>data table notebook</a>'\n",
              "          + ' to learn more about interactive tables.';\n",
              "        element.innerHTML = '';\n",
              "        dataTable['output_type'] = 'display_data';\n",
              "        await google.colab.output.renderOutput(dataTable, element);\n",
              "        const docLink = document.createElement('div');\n",
              "        docLink.innerHTML = docLinkHtml;\n",
              "        element.appendChild(docLink);\n",
              "      }\n",
              "    </script>\n",
              "  </div>\n",
              "\n",
              "\n",
              "<div id=\"df-8fed44f8-c111-416c-8ed0-6455e9bba036\">\n",
              "  <button class=\"colab-df-quickchart\" onclick=\"quickchart('df-8fed44f8-c111-416c-8ed0-6455e9bba036')\"\n",
              "            title=\"Suggest charts.\"\n",
              "            style=\"display:none;\">\n",
              "\n",
              "<svg xmlns=\"http://www.w3.org/2000/svg\" height=\"24px\"viewBox=\"0 0 24 24\"\n",
              "     width=\"24px\">\n",
              "    <g>\n",
              "        <path d=\"M19 3H5c-1.1 0-2 .9-2 2v14c0 1.1.9 2 2 2h14c1.1 0 2-.9 2-2V5c0-1.1-.9-2-2-2zM9 17H7v-7h2v7zm4 0h-2V7h2v10zm4 0h-2v-4h2v4z\"/>\n",
              "    </g>\n",
              "</svg>\n",
              "  </button>\n",
              "\n",
              "<style>\n",
              "  .colab-df-quickchart {\n",
              "      --bg-color: #E8F0FE;\n",
              "      --fill-color: #1967D2;\n",
              "      --hover-bg-color: #E2EBFA;\n",
              "      --hover-fill-color: #174EA6;\n",
              "      --disabled-fill-color: #AAA;\n",
              "      --disabled-bg-color: #DDD;\n",
              "  }\n",
              "\n",
              "  [theme=dark] .colab-df-quickchart {\n",
              "      --bg-color: #3B4455;\n",
              "      --fill-color: #D2E3FC;\n",
              "      --hover-bg-color: #434B5C;\n",
              "      --hover-fill-color: #FFFFFF;\n",
              "      --disabled-bg-color: #3B4455;\n",
              "      --disabled-fill-color: #666;\n",
              "  }\n",
              "\n",
              "  .colab-df-quickchart {\n",
              "    background-color: var(--bg-color);\n",
              "    border: none;\n",
              "    border-radius: 50%;\n",
              "    cursor: pointer;\n",
              "    display: none;\n",
              "    fill: var(--fill-color);\n",
              "    height: 32px;\n",
              "    padding: 0;\n",
              "    width: 32px;\n",
              "  }\n",
              "\n",
              "  .colab-df-quickchart:hover {\n",
              "    background-color: var(--hover-bg-color);\n",
              "    box-shadow: 0 1px 2px rgba(60, 64, 67, 0.3), 0 1px 3px 1px rgba(60, 64, 67, 0.15);\n",
              "    fill: var(--button-hover-fill-color);\n",
              "  }\n",
              "\n",
              "  .colab-df-quickchart-complete:disabled,\n",
              "  .colab-df-quickchart-complete:disabled:hover {\n",
              "    background-color: var(--disabled-bg-color);\n",
              "    fill: var(--disabled-fill-color);\n",
              "    box-shadow: none;\n",
              "  }\n",
              "\n",
              "  .colab-df-spinner {\n",
              "    border: 2px solid var(--fill-color);\n",
              "    border-color: transparent;\n",
              "    border-bottom-color: var(--fill-color);\n",
              "    animation:\n",
              "      spin 1s steps(1) infinite;\n",
              "  }\n",
              "\n",
              "  @keyframes spin {\n",
              "    0% {\n",
              "      border-color: transparent;\n",
              "      border-bottom-color: var(--fill-color);\n",
              "      border-left-color: var(--fill-color);\n",
              "    }\n",
              "    20% {\n",
              "      border-color: transparent;\n",
              "      border-left-color: var(--fill-color);\n",
              "      border-top-color: var(--fill-color);\n",
              "    }\n",
              "    30% {\n",
              "      border-color: transparent;\n",
              "      border-left-color: var(--fill-color);\n",
              "      border-top-color: var(--fill-color);\n",
              "      border-right-color: var(--fill-color);\n",
              "    }\n",
              "    40% {\n",
              "      border-color: transparent;\n",
              "      border-right-color: var(--fill-color);\n",
              "      border-top-color: var(--fill-color);\n",
              "    }\n",
              "    60% {\n",
              "      border-color: transparent;\n",
              "      border-right-color: var(--fill-color);\n",
              "    }\n",
              "    80% {\n",
              "      border-color: transparent;\n",
              "      border-right-color: var(--fill-color);\n",
              "      border-bottom-color: var(--fill-color);\n",
              "    }\n",
              "    90% {\n",
              "      border-color: transparent;\n",
              "      border-bottom-color: var(--fill-color);\n",
              "    }\n",
              "  }\n",
              "</style>\n",
              "\n",
              "  <script>\n",
              "    async function quickchart(key) {\n",
              "      const quickchartButtonEl =\n",
              "        document.querySelector('#' + key + ' button');\n",
              "      quickchartButtonEl.disabled = true;  // To prevent multiple clicks.\n",
              "      quickchartButtonEl.classList.add('colab-df-spinner');\n",
              "      try {\n",
              "        const charts = await google.colab.kernel.invokeFunction(\n",
              "            'suggestCharts', [key], {});\n",
              "      } catch (error) {\n",
              "        console.error('Error during call to suggestCharts:', error);\n",
              "      }\n",
              "      quickchartButtonEl.classList.remove('colab-df-spinner');\n",
              "      quickchartButtonEl.classList.add('colab-df-quickchart-complete');\n",
              "    }\n",
              "    (() => {\n",
              "      let quickchartButtonEl =\n",
              "        document.querySelector('#df-8fed44f8-c111-416c-8ed0-6455e9bba036 button');\n",
              "      quickchartButtonEl.style.display =\n",
              "        google.colab.kernel.accessAllowed ? 'block' : 'none';\n",
              "    })();\n",
              "  </script>\n",
              "</div>\n",
              "    </div>\n",
              "  </div>\n"
            ]
          },
          "metadata": {},
          "execution_count": 2
        }
      ]
    },
    {
      "cell_type": "code",
      "source": [
        "print(data.shape[0])"
      ],
      "metadata": {
        "colab": {
          "base_uri": "https://localhost:8080/"
        },
        "id": "Imx1-jjCFqrg",
        "outputId": "895b5bce-37af-434e-cad1-882fb62c721a"
      },
      "execution_count": 3,
      "outputs": [
        {
          "output_type": "stream",
          "name": "stdout",
          "text": [
            "1372\n"
          ]
        }
      ]
    },
    {
      "cell_type": "code",
      "source": [
        "import matplotlib.pyplot as plt\n",
        "plt.hist(data['Class'])\n",
        "plt.show()"
      ],
      "metadata": {
        "colab": {
          "base_uri": "https://localhost:8080/",
          "height": 435
        },
        "id": "biiKFh-138KL",
        "outputId": "cb95a1e9-7cd8-473d-be8b-d94dfeadd00f"
      },
      "execution_count": 4,
      "outputs": [
        {
          "output_type": "display_data",
          "data": {
            "text/plain": [
              "<Figure size 640x480 with 1 Axes>"
            ],
            "image/png": "[encoded data removed]"
          },
          "metadata": {}
        }
      ]
    },
    {
      "cell_type": "markdown",
      "source": [
        "##Data Preparation"
      ],
      "metadata": {
        "id": "dTnurORdGL2N"
      }
    },
    {
      "cell_type": "markdown",
      "source": [
        "Split the dataset into training and testing data. Split the dataset into training (80%) and testing data (20%).\n"
      ],
      "metadata": {
        "id": "48PY32elH_4s"
      }
    },
    {
      "cell_type": "code",
      "source": [
        "from sklearn.model_selection import train_test_split\n",
        "import numpy as np\n",
        "import matplotlib.pyplot as plt\n",
        "\n",
        "features = [\"Variance\", \"Skewness\", \"Curtosis\", \"Entropy\"]\n",
        "X = data.loc[:, features]\n",
        "y = data.loc[:, 'Class']\n",
        "X_train, X_test, y_train, y_test = train_test_split(X, y, random_state=0, train_size = .8)\n",
        "#np.random.choice give it array of indices of pandas data frame"
      ],
      "metadata": {
        "id": "lY7Jjxf7Cgez"
      },
      "execution_count": 5,
      "outputs": []
    },
    {
      "cell_type": "code",
      "source": [
        "y_train"
      ],
      "metadata": {
        "colab": {
          "base_uri": "https://localhost:8080/"
        },
        "id": "lTz-1p6an-I_",
        "outputId": "b1dfdec6-cbd3-4a18-d8ad-c0ecc0bc57f5"
      },
      "execution_count": 6,
      "outputs": [
        {
          "output_type": "execute_result",
          "data": {
            "text/plain": [
              "1326    1\n",
              "1109    1\n",
              "1139    1\n",
              "657     0\n",
              "704     0\n",
              "       ..\n",
              "763     1\n",
              "835     1\n",
              "1216    1\n",
              "559     0\n",
              "684     0\n",
              "Name: Class, Length: 1097, dtype: int64"
            ]
          },
          "metadata": {},
          "execution_count": 6
        }
      ]
    },
    {
      "cell_type": "code",
      "source": [
        "np.array(X_train)"
      ],
      "metadata": {
        "colab": {
          "base_uri": "https://localhost:8080/"
        },
        "id": "dVCU-4gC5wMh",
        "outputId": "b680d8a6-dcbc-4430-daee-c381b1e34fda"
      },
      "execution_count": 7,
      "outputs": [
        {
          "output_type": "execute_result",
          "data": {
            "text/plain": [
              "array([[-1.2943  ,  2.6735  , -0.84085 , -2.0323  ],\n",
              "       [-0.40857 ,  3.0977  , -2.9607  , -2.6892  ],\n",
              "       [-1.5228  , -6.4789  ,  5.7568  ,  0.87325 ],\n",
              "       ...,\n",
              "       [ 0.6005  ,  0.99945 , -2.2126  ,  0.097399],\n",
              "       [ 2.0165  , -0.25246 ,  5.1707  ,  1.0763  ],\n",
              "       [-2.0759  , 10.8223  ,  2.6439  , -4.837   ]])"
            ]
          },
          "metadata": {},
          "execution_count": 7
        }
      ]
    },
    {
      "cell_type": "code",
      "source": [
        "print('Train Size: ', X_train.shape[0])\n",
        "print('Test Size: ', X_test.shape[0])"
      ],
      "metadata": {
        "colab": {
          "base_uri": "https://localhost:8080/"
        },
        "id": "p94HgqDlJIc4",
        "outputId": "44b1f8f9-b845-4600-edc9-ebb247fb955e"
      },
      "execution_count": 8,
      "outputs": [
        {
          "output_type": "stream",
          "name": "stdout",
          "text": [
            "Train Size:  1097\n",
            "Test Size:  275\n"
          ]
        }
      ]
    },
    {
      "cell_type": "markdown",
      "source": [
        "##Pocket Algorithm"
      ],
      "metadata": {
        "id": "EIRGGRT4J5Rf"
      }
    },
    {
      "cell_type": "markdown",
      "source": [
        "\n",
        "The problem is that we have non linearly separable data. There are two different ways data can be linearly non separable. Either there are outliers which disobey model, or the data is intrinsically nonlinear. The pocket algorithm deals with the former case. Instead of testing combinatorially, (every possible combo, this becomes too much). So we need this trick to overcome that hurdle. Below I append the perceptron algorithm.  "
      ],
      "metadata": {
        "id": "x5yEFmcy_WVN"
      }
    },
    {
      "cell_type": "code",
      "source": [
        "def step_func(a):\n",
        "    return 1.0 if (a > 0) else 0.0\n",
        "def pocket (X_train, y_train, lr, epochs):\n",
        "    m, n = X_train.shape\n",
        "    theta = np.zeros((n+1,1))\n",
        "    best_error = m\n",
        "    best_weights = theta\n",
        "    for e in range(epochs):\n",
        "        miss = 0\n",
        "        for idx, x_i in enumerate(X_train):\n",
        "            x_i = np.insert(x_i, 0, 1).reshape(-1,1)\n",
        "            y_hat = step_func(np.dot(x_i.T, theta))\n",
        "            if (np.squeeze(y_hat) - y_train[idx]) != 0:\n",
        "                theta += lr*((y_train[idx] - y_hat)*x_i)\n",
        "                miss += 1\n",
        "        if miss < best_error:\n",
        "            best_error = miss\n",
        "            best_weights = theta\n",
        "    return best_weights, best_error\n"
      ],
      "metadata": {
        "id": "52kflCQDJpPc"
      },
      "execution_count": 9,
      "outputs": []
    },
    {
      "cell_type": "code",
      "source": [
        "pocket(np.array(X_train), np.array(y_train), .5, 10)"
      ],
      "metadata": {
        "colab": {
          "base_uri": "https://localhost:8080/"
        },
        "id": "sC3xxx7uIcV1",
        "outputId": "2e07b8f8-7fa7-4259-82e8-7a52ef3dcabb"
      },
      "execution_count": 10,
      "outputs": [
        {
          "output_type": "execute_result",
          "data": {
            "text/plain": [
              "(array([[ 28.       ],\n",
              "        [-30.03691  ],\n",
              "        [-19.5049265],\n",
              "        [-25.5652153],\n",
              "        [ -6.923369 ]]),\n",
              " 17)"
            ]
          },
          "metadata": {},
          "execution_count": 10
        }
      ]
    },
    {
      "cell_type": "markdown",
      "source": [
        "### Intialize with zero vector"
      ],
      "metadata": {
        "id": "s5yRVWbELj_t"
      }
    },
    {
      "cell_type": "markdown",
      "source": [
        "theta = np.zeros((n+1,1) creates the zero vector."
      ],
      "metadata": {
        "id": "zgIKSSS52MAJ"
      }
    },
    {
      "cell_type": "code",
      "source": [
        "def pocket (X_train, y_train, lr, epochs):\n",
        "    m, n = X_train.shape\n",
        "    theta = np.zeros((n+1,1))\n",
        "    best_error = m\n",
        "    best_weights = theta\n",
        "    for e in range(epochs):\n",
        "        miss = 0\n",
        "        for idx, x_i in enumerate(X_train):\n",
        "            x_i = np.insert(x_i, 0, 1).reshape(-1,1)\n",
        "            y_hat = step_func(np.dot(x_i.T, theta))\n",
        "            if (np.squeeze(y_hat) - y_train[idx]) != 0:\n",
        "                theta += lr*((y_train[idx] - y_hat)*x_i)\n",
        "                miss += 1\n",
        "        if miss < best_error:\n",
        "            best_error = miss\n",
        "            best_weights = theta\n",
        "    return best_weights, best_error"
      ],
      "metadata": {
        "id": "NQRoi5saLhU3"
      },
      "execution_count": 11,
      "outputs": []
    },
    {
      "cell_type": "markdown",
      "source": [
        "#### Training\n"
      ],
      "metadata": {
        "id": "465EtS9S1BED"
      }
    },
    {
      "cell_type": "markdown",
      "source": [
        "Turning training data into array to avoid error."
      ],
      "metadata": {
        "id": "hnLsExFs2YvV"
      }
    },
    {
      "cell_type": "code",
      "source": [
        "#put your code here\n",
        "pocket(np.array(X_train), np.array(y_train), .5, 10)"
      ],
      "metadata": {
        "id": "q3TfV7If1aha",
        "colab": {
          "base_uri": "https://localhost:8080/"
        },
        "outputId": "74e0bcfb-14bb-4563-e97a-c04de896c766"
      },
      "execution_count": 12,
      "outputs": [
        {
          "output_type": "execute_result",
          "data": {
            "text/plain": [
              "(array([[ 28.       ],\n",
              "        [-30.03691  ],\n",
              "        [-19.5049265],\n",
              "        [-25.5652153],\n",
              "        [ -6.923369 ]]),\n",
              " 17)"
            ]
          },
          "metadata": {},
          "execution_count": 12
        }
      ]
    },
    {
      "cell_type": "markdown",
      "source": [
        "pocket returns best_weights and best_error."
      ],
      "metadata": {
        "id": "DnzWupGbDImJ"
      }
    },
    {
      "cell_type": "markdown",
      "source": [
        "#### Testing\n"
      ],
      "metadata": {
        "id": "I-U0ho3X11UA"
      }
    },
    {
      "cell_type": "markdown",
      "source": [
        "You can update the code above to run pocket on test data. No need for epochs."
      ],
      "metadata": {
        "id": "8UENAEYs2uP9"
      }
    },
    {
      "cell_type": "code",
      "source": [
        "#put your code here\n",
        "def pocket (X_test, y_test, lr):\n",
        "    m, n = X_test.shape\n",
        "    theta = np.zeros((n+1,1))\n",
        "    best_error = m\n",
        "    best_weights = theta\n",
        "    miss = 0\n",
        "    for idx, x_i in enumerate(X_test):\n",
        "        x_i = np.insert(x_i, 0, 1).reshape(-1,1)\n",
        "        y_hat = step_func(np.dot(x_i.T, theta))\n",
        "        if (np.squeeze(y_hat) - y_test[idx]) != 0:\n",
        "            theta += lr*((y_test[idx] - y_hat)*x_i)\n",
        "            miss += 1\n",
        "    if miss < best_error:\n",
        "        best_error = miss\n",
        "        best_weights = theta\n",
        "    return best_weights, best_error"
      ],
      "metadata": {
        "id": "Nr6KJGow11UA"
      },
      "execution_count": 35,
      "outputs": []
    },
    {
      "cell_type": "code",
      "source": [
        "pocket(np.array(X_test), np.array(y_test), .5)"
      ],
      "metadata": {
        "colab": {
          "base_uri": "https://localhost:8080/"
        },
        "id": "j4FytWzoXfEn",
        "outputId": "e57dbf6d-2558-41a7-cb03-84c27a2c5496"
      },
      "execution_count": 36,
      "outputs": [
        {
          "output_type": "execute_result",
          "data": {
            "text/plain": [
              "(array([[  6.5      ],\n",
              "        [-13.4645485],\n",
              "        [ -6.41792  ],\n",
              "        [ -7.647825 ],\n",
              "        [ -3.01591  ]]),\n",
              " 35)"
            ]
          },
          "metadata": {},
          "execution_count": 36
        }
      ]
    },
    {
      "cell_type": "markdown",
      "source": [
        "### Intialize with linear regression"
      ],
      "metadata": {
        "id": "3Eqp3kReL1xA"
      }
    },
    {
      "cell_type": "code",
      "source": [
        "from sklearn.linear_model import LogisticRegression\n",
        "from sklearn.metrics import classification_report, confusion_matrix\n",
        "model = LogisticRegression(solver='liblinear', C=10.0, random_state=0)\n",
        "model.fit(X, y)\n",
        "p_pred = model.predict_proba(X)\n",
        "y_pred = model.predict(X)\n",
        "score_ = model.score(X, y)\n",
        "conf_m = confusion_matrix(y, y_pred)\n",
        "report = classification_report(y, y_pred)"
      ],
      "metadata": {
        "id": "A6JZkrbHXTB9"
      },
      "execution_count": 15,
      "outputs": []
    },
    {
      "cell_type": "code",
      "source": [
        "print(p_pred)"
      ],
      "metadata": {
        "colab": {
          "base_uri": "https://localhost:8080/"
        },
        "id": "YtEFyds3t01C",
        "outputId": "997678fa-08ef-4dd4-d741-7f69e8f6708c"
      },
      "execution_count": 16,
      "outputs": [
        {
          "output_type": "stream",
          "name": "stdout",
          "text": [
            "[[1.00000000e+00 1.31034477e-13]\n",
            " [1.00000000e+00 1.47441453e-15]\n",
            " [9.99999739e-01 2.60757477e-07]\n",
            " ...\n",
            " [1.62115282e-01 8.37884718e-01]\n",
            " [1.42005421e-02 9.85799458e-01]\n",
            " [2.20959487e-05 9.99977904e-01]]\n"
          ]
        }
      ]
    },
    {
      "cell_type": "code",
      "source": [
        "print(score_)"
      ],
      "metadata": {
        "colab": {
          "base_uri": "https://localhost:8080/"
        },
        "id": "-dXV-YMk3MlC",
        "outputId": "27ba62a4-74d5-48f6-fb3e-dc29c4cc7c1e"
      },
      "execution_count": 17,
      "outputs": [
        {
          "output_type": "stream",
          "name": "stdout",
          "text": [
            "0.9883381924198251\n"
          ]
        }
      ]
    },
    {
      "cell_type": "code",
      "source": [
        "print(conf_m)"
      ],
      "metadata": {
        "colab": {
          "base_uri": "https://localhost:8080/"
        },
        "id": "DQrsPXYI3bKf",
        "outputId": "84ebf204-9053-43d6-d3d6-9fcb25b991e3"
      },
      "execution_count": 18,
      "outputs": [
        {
          "output_type": "stream",
          "name": "stdout",
          "text": [
            "[[752  10]\n",
            " [  6 604]]\n"
          ]
        }
      ]
    },
    {
      "cell_type": "code",
      "source": [
        "print(report)"
      ],
      "metadata": {
        "colab": {
          "base_uri": "https://localhost:8080/"
        },
        "id": "AaZn3r8D3f5P",
        "outputId": "230b5db2-3003-494f-f020-a2a00f4ef9af"
      },
      "execution_count": 19,
      "outputs": [
        {
          "output_type": "stream",
          "name": "stdout",
          "text": [
            "              precision    recall  f1-score   support\n",
            "\n",
            "           0       0.99      0.99      0.99       762\n",
            "           1       0.98      0.99      0.99       610\n",
            "\n",
            "    accuracy                           0.99      1372\n",
            "   macro avg       0.99      0.99      0.99      1372\n",
            "weighted avg       0.99      0.99      0.99      1372\n",
            "\n"
          ]
        }
      ]
    },
    {
      "cell_type": "code",
      "source": [
        "def pocket (X_train, y_train, lr, epochs):\n",
        "    m, n = X_train.shape\n",
        "    theta = np.zeros((n+1,1))\n",
        "    best_error = m\n",
        "    best_weights = theta\n",
        "    for e in range(epochs):\n",
        "        miss = 0\n",
        "        for idx, x_i in enumerate(X_train):\n",
        "            x_i = np.insert(x_i, 0, 1).reshape(-1,1)\n",
        "            y_hat = step_func(np.dot(x_i.T, theta))\n",
        "            if (np.squeeze(y_hat) - y_train[idx]) != 0:\n",
        "                theta += lr*((y_train[idx] - y_hat)*x_i)\n",
        "                miss += 1\n",
        "        if miss < best_error:\n",
        "            best_error = miss\n",
        "            best_weights = theta\n",
        "    return best_weights, best_error"
      ],
      "metadata": {
        "id": "r8reNQXSnzWT"
      },
      "execution_count": 20,
      "outputs": []
    },
    {
      "cell_type": "markdown",
      "source": [
        "#### Training\n"
      ],
      "metadata": {
        "id": "Lq5uUNpG2AEa"
      }
    },
    {
      "cell_type": "code",
      "source": [
        "#put your code here\n",
        "from sklearn.linear_model import LinearRegression\n",
        "reg = LinearRegression().fit(X_train, y_train)\n",
        "reg.score(X_train, y_train)"
      ],
      "metadata": {
        "id": "2u2cYyEO2AEb",
        "colab": {
          "base_uri": "https://localhost:8080/"
        },
        "outputId": "ac5c30ff-c5de-4c17-dbb6-8c5eb102fc9f"
      },
      "execution_count": 22,
      "outputs": [
        {
          "output_type": "execute_result",
          "data": {
            "text/plain": [
              "0.863860194034898"
            ]
          },
          "metadata": {},
          "execution_count": 22
        }
      ]
    },
    {
      "cell_type": "markdown",
      "source": [
        "#### Testing\n"
      ],
      "metadata": {
        "id": "_yA80tjT2AEc"
      }
    },
    {
      "cell_type": "code",
      "source": [
        "#put your code here\n",
        "reg = LinearRegression().fit(X_test, y_test)\n",
        "reg.score(X_test, y_test)"
      ],
      "metadata": {
        "id": "mJpG-avl2AEc",
        "colab": {
          "base_uri": "https://localhost:8080/"
        },
        "outputId": "ed67ce10-3a0b-456e-e07b-3a67c8d5cf15"
      },
      "execution_count": 23,
      "outputs": [
        {
          "output_type": "execute_result",
          "data": {
            "text/plain": [
              "0.8699181392720424"
            ]
          },
          "metadata": {},
          "execution_count": 23
        }
      ]
    },
    {
      "cell_type": "markdown",
      "source": [
        "##Error Measurement"
      ],
      "metadata": {
        "id": "ftBrpDGB2F69"
      }
    },
    {
      "cell_type": "code",
      "source": [
        "def step_func(a):\n",
        "    return 1.0 if (a > 0) else 0.0\n",
        "def pocket(X_train, y_train, lr, epochs):\n",
        "    m, n = X_train.shape\n",
        "    theta = np.zeros((n+1, 1))\n",
        "    best_error = m\n",
        "    best_weights = theta\n",
        "    errors = []  # To store error for each epoch\n",
        "\n",
        "    for e in range(epochs):\n",
        "        miss = 0\n",
        "        for idx, x_i in enumerate(X_train):\n",
        "            x_i = np.insert(x_i, 0, 1).reshape(-1, 1)\n",
        "            y_hat = step_func(np.dot(x_i.T, theta))\n",
        "            if (np.squeeze(y_hat) - y_train[idx]) != 0:\n",
        "                theta += lr * ((y_train[idx] - y_hat) * x_i)\n",
        "                miss += 1\n",
        "        if miss < best_error:\n",
        "            best_error = miss\n",
        "            best_weights = theta\n",
        "        errors.append(miss)\n",
        "\n",
        "    return best_weights, errors\n"
      ],
      "metadata": {
        "id": "0JE9EWOC2Hxt"
      },
      "execution_count": 30,
      "outputs": []
    },
    {
      "cell_type": "code",
      "source": [
        "best_weights, errors = pocket(np.array(X_train), np.array(y_train), .5, 10)\n"
      ],
      "metadata": {
        "id": "AU0cIz2NzxKg"
      },
      "execution_count": 31,
      "outputs": []
    },
    {
      "cell_type": "code",
      "source": [
        "plt.plot(errors)\n",
        "plt.xlabel(\"Epochs\")\n",
        "plt.ylabel(\"Misclassifications\")\n",
        "plt.show()"
      ],
      "metadata": {
        "colab": {
          "base_uri": "https://localhost:8080/",
          "height": 449
        },
        "id": "O6TsUoJ_0tem",
        "outputId": "46f43081-8ed2-4406-9747-8d8a47bb40c9"
      },
      "execution_count": 32,
      "outputs": [
        {
          "output_type": "display_data",
          "data": {
            "text/plain": [
              "<Figure size 640x480 with 1 Axes>"
            ],
            "image/png": "[encoded data removed]"
          },
          "metadata": {}
        }
      ]
    },
    {
      "cell_type": "markdown",
      "source": [
        "## Conclusion"
      ],
      "metadata": {
        "id": "qAlvHORC5QMq"
      }
    },
    {
      "cell_type": "markdown",
      "source": [
        "We began with PLA--creating a step function that would convert an input into a 1 or 0 depending on whether it is greater than or less than 0; then defining a function that takes four arguments: the data, the target, the learning rate and the number of epochs; I then defined local variables. Using X_train.shape I defined m as the number of rows and n as the number of features. I then added a column of zeroes, theta. I defined best_error as the worst possible error, that is, I made it equal to the full number of rows in the data set. Best_weights I made equal to the column of zeros, theta. I then initialized a for loop which introduced the variable miss, set to 0, to be updated over the course of the epochs. I then nested another for loop which ran over the index, inserting another column and y_hat, invoking the step function which takes as an input the dot product of x_i and theta and assigns it to y_hat. If the difference between y_hat and y_train isn't zero then we add to theta the learning rate times the difference of y train and y hat. That counts as a missclassified label so we add 1 to miss. This is where the pocket algorithm kicks in. The if statement that creates the pocket is in the outer for loop. It dictates that if miss is less than our current best error, then we update best error to be equal to miss. We also update best weights to be equal to theta. This will allow us to grab the lowest error over the course of the epochs.\n",
        "\n",
        "Understanding how to change perceptron to get the pocket algorithm took longer than I expected, and I recognize that I have not been able to fully complete other sections of the homework as I have run into some errors that I have not been able to resolve. I'll be reaching out to discuss how best to proceed with the class, given that my lack of experience with linear algebra is proving challenging. Looking forward to getting your advice.\n",
        "\n",
        "Here are some of the online resources I used\n",
        "\n",
        "\n",
        "\n",
        "https://builtin.com/data-science/train-test-split\n",
        "https://towardsdatascience.com/train-validation-and-test-sets-72cb40cba9e7\n",
        "https://www.codeproject.com/Articles/1229772/Machine-Learning-Basics-Pocket-Learning-Algorithm\n",
        "https://home.work.caltech.edu/library/032.html\n",
        "https://stats.stackexchange.com/questions/51200/pocket-algorithm-for-training-perceptrons\n",
        "https://realpython.com/logistic-regression-python/\n",
        "\n",
        "\n"
      ],
      "metadata": {
        "id": "uRyM2Q-25UN8"
      }
    },
    {
      "cell_type": "code",
      "source": [],
      "metadata": {
        "id": "-03pTmrPLbgI"
      },
      "execution_count": null,
      "outputs": []
    }
  ]
}